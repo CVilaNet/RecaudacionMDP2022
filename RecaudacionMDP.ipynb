{
  "nbformat": 4,
  "nbformat_minor": 0,
  "metadata": {
    "colab": {
      "provenance": []
    },
    "kernelspec": {
      "name": "python3",
      "display_name": "Python 3"
    },
    "language_info": {
      "name": "python"
    }
  },
  "cells": [
    {
      "cell_type": "markdown",
      "source": [
        "## Análisis Exploratorio de los Ingresos recaudados de la Municipalidad Distrital de Pucusana - Año 2022\n",
        "La información corresponde a todos los ingresos recaudados por la Municipalidad Distrital de Pucusana en el año 2022 (Enero - Setiembre). Los tipos de ingresos corresponden a impuesto predial, arbitrios (limpieza pública, parques y jardines o serenazgo) y otros conceptos como: formularios, carnets, constancias, multas, etc."
      ],
      "metadata": {
        "id": "9tBPXoFVZ5BE"
      }
    },
    {
      "cell_type": "markdown",
      "source": [
        "## 1. Carga de Datos de Diferentes Origenes"
      ],
      "metadata": {
        "id": "SoimFp1fa6hh"
      }
    },
    {
      "cell_type": "code",
      "source": [
        "import pandas as pd\n",
        "\n",
        "url='https://drive.google.com/file/d/1P7gB1y4SbMEeeQwOA-eX_AYiI-4tc9oR/view?usp=sharing'\n",
        "\n",
        "file_id=url.split('/')[-2]\n",
        "dwn_url='https://drive.google.com/uc?id=' + file_id\n",
        "\n",
        "df = pd.read_csv(dwn_url, encoding = 'utf-8', sep=';')\n",
        "\n",
        "df.shape"
      ],
      "metadata": {
        "colab": {
          "base_uri": "https://localhost:8080/"
        },
        "id": "wVO9AyxtqqB0",
        "outputId": "384be537-6595-4e5a-d601-16cf815b3cb4"
      },
      "execution_count": 1,
      "outputs": [
        {
          "output_type": "execute_result",
          "data": {
            "text/plain": [
              "(101859, 38)"
            ]
          },
          "metadata": {},
          "execution_count": 1
        }
      ]
    },
    {
      "cell_type": "code",
      "source": [
        "df.columns"
      ],
      "metadata": {
        "colab": {
          "base_uri": "https://localhost:8080/"
        },
        "id": "qiLmu1kOp-jM",
        "outputId": "2483339f-4615-4691-dd99-71f295948f01"
      },
      "execution_count": 2,
      "outputs": [
        {
          "output_type": "execute_result",
          "data": {
            "text/plain": [
              "Index(['FECHA_CORTE', 'UBIGEO', 'DEPARTAMENTO', 'PROVINCIA', 'DISTRITO',\n",
              "       'ANIO', 'NUMMOVIMIENTO', 'TIPOMOV', 'CODPERSONA', 'docidentidad',\n",
              "       'DATOSPERSONA', 'OBSERVACIONES', ' IMPORTE_C ', ' DERECHO_C ',\n",
              "       ' INTERESES_C ', ' REAJUSTE_C ', ' DESCUENTO_C ', ' TOTALCOBRADO ',\n",
              "       ' RECIBIDO ', ' VUELTO ', 'FECHACANC', 'FECHACANC.1', 'TIPOPAGO',\n",
              "       'NUMORDEN', 'ANIORECIBO', 'NUMRECIBO', 'CODCUENTA', 'CODTRIBUTO',\n",
              "       'NUMCUOTA', 'CODPREDIO', 'UBICACIONPREDIAL', 'CONCEPTO', ' IMPORTE_D ',\n",
              "       ' DERECHO_D ', ' INTERESES_D ', ' REAJUSTE_D ', ' DESCUENTO_D ',\n",
              "       ' SUBTOTAL_D '],\n",
              "      dtype='object')"
            ]
          },
          "metadata": {},
          "execution_count": 2
        }
      ]
    },
    {
      "cell_type": "code",
      "source": [
        "# Eliminando los caracteres en blanco del nombre de las columnas\n",
        "df.rename(columns = {' IMPORTE_C ':'IMPORTE_C', \n",
        "                     ' DERECHO_C ':'DERECHO_C',\n",
        "                     ' INTERESES_C ':'INTERESES_C',\n",
        "                     ' REAJUSTE_C ':'REAJUSTE_C',\n",
        "                     ' DESCUENTO_C ':'DESCUENTO_C',\n",
        "                     ' TOTALCOBRADO ':'TOTALCOBRADO',\n",
        "                     ' RECIBIDO ':'RECIBIDO',\n",
        "                     ' VUELTO ':'VUELTO',\n",
        "                     ' DERECHO_D ':'DERECHO_D',\n",
        "                     ' INTERESES_D ':'INTERESES_D',\n",
        "                     ' REAJUSTE_D ':'REAJUSTE_D',\n",
        "                     ' IMPORTE_D ':'IMPORTE_D',\n",
        "                     ' DESCUENTO_D ':'DESCUENTO_D',\n",
        "                     ' SUBTOTAL_D ':'SUBTOTAL_D'}, inplace=True)"
      ],
      "metadata": {
        "id": "aPgDurhf1WR8"
      },
      "execution_count": 3,
      "outputs": []
    },
    {
      "cell_type": "code",
      "source": [
        "# String to Float format\n",
        "def StringToFloatFormat(x):\n",
        "  partialNum = x.split(',')\n",
        "  allNum = ''\n",
        "  \n",
        "  for num in partialNum:\n",
        "    allNum = allNum + num\n",
        "\n",
        "  return allNum\n",
        "\n",
        "#print(StringToFloatFormat('19,571.37'))\n",
        "df['TOTALCOBRADO'] = df['TOTALCOBRADO'].apply(StringToFloatFormat)"
      ],
      "metadata": {
        "id": "hYGsY_7E27ew"
      },
      "execution_count": 4,
      "outputs": []
    },
    {
      "cell_type": "code",
      "source": [
        "df['FECHA_CORTE'] = df['FECHA_CORTE'].astype(str)\n",
        "df['UBIGEO'] = df['UBIGEO'].astype(str)\n",
        "df['TOTALCOBRADO'] = df['TOTALCOBRADO'].astype(float)\n",
        "df.info()"
      ],
      "metadata": {
        "id": "hV6Yif8EaG3p",
        "colab": {
          "base_uri": "https://localhost:8080/"
        },
        "outputId": "2a5def2f-56a1-4da0-d35c-0f4d0eb0378a"
      },
      "execution_count": 5,
      "outputs": [
        {
          "output_type": "stream",
          "name": "stdout",
          "text": [
            "<class 'pandas.core.frame.DataFrame'>\n",
            "RangeIndex: 101859 entries, 0 to 101858\n",
            "Data columns (total 38 columns):\n",
            " #   Column            Non-Null Count   Dtype  \n",
            "---  ------            --------------   -----  \n",
            " 0   FECHA_CORTE       101859 non-null  object \n",
            " 1   UBIGEO            101859 non-null  object \n",
            " 2   DEPARTAMENTO      101859 non-null  object \n",
            " 3   PROVINCIA         101859 non-null  object \n",
            " 4   DISTRITO          101859 non-null  object \n",
            " 5   ANIO              101859 non-null  int64  \n",
            " 6   NUMMOVIMIENTO     101859 non-null  int64  \n",
            " 7   TIPOMOV           101859 non-null  object \n",
            " 8   CODPERSONA        101859 non-null  int64  \n",
            " 9   docidentidad      101859 non-null  object \n",
            " 10  DATOSPERSONA      101859 non-null  object \n",
            " 11  OBSERVACIONES     98061 non-null   object \n",
            " 12  IMPORTE_C         101859 non-null  object \n",
            " 13  DERECHO_C         101859 non-null  object \n",
            " 14  INTERESES_C       101859 non-null  object \n",
            " 15  REAJUSTE_C        101859 non-null  object \n",
            " 16  DESCUENTO_C       101859 non-null  object \n",
            " 17  TOTALCOBRADO      101859 non-null  float64\n",
            " 18  RECIBIDO          101859 non-null  object \n",
            " 19  VUELTO            101859 non-null  object \n",
            " 20  FECHACANC         101859 non-null  object \n",
            " 21  FECHACANC.1       101859 non-null  object \n",
            " 22  TIPOPAGO          101859 non-null  object \n",
            " 23  NUMORDEN          101859 non-null  int64  \n",
            " 24  ANIORECIBO        101859 non-null  int64  \n",
            " 25  NUMRECIBO         96397 non-null   float64\n",
            " 26  CODCUENTA         96397 non-null   float64\n",
            " 27  CODTRIBUTO        96397 non-null   float64\n",
            " 28  NUMCUOTA          96397 non-null   float64\n",
            " 29  CODPREDIO         96397 non-null   float64\n",
            " 30  UBICACIONPREDIAL  101859 non-null  object \n",
            " 31  CONCEPTO          101859 non-null  object \n",
            " 32  IMPORTE_D         101859 non-null  object \n",
            " 33  DERECHO_D         101859 non-null  object \n",
            " 34  INTERESES_D       101859 non-null  object \n",
            " 35  REAJUSTE_D        101859 non-null  object \n",
            " 36  DESCUENTO_D       101859 non-null  object \n",
            " 37  SUBTOTAL_D        101859 non-null  object \n",
            "dtypes: float64(6), int64(5), object(27)\n",
            "memory usage: 29.5+ MB\n"
          ]
        }
      ]
    },
    {
      "cell_type": "code",
      "source": [
        "#dataContepto = df.groupby(['CONCEPTO'])['CONCEPTO'].count()\n",
        "\n",
        "#dfAlcabala = df.query(\"((CONCEPTO == 'ALCABALA'))\")\n",
        "#dfAlcabala['TOTALCOBRADO']\n",
        "#dfAlcabala['TOTALCOBRADO'].sum()"
      ],
      "metadata": {
        "id": "DLBBGwbb6b8o"
      },
      "execution_count": 6,
      "outputs": []
    },
    {
      "cell_type": "code",
      "source": [
        "col_interes = ['CODPERSONA', 'TOTALCOBRADO', 'RECIBIDO', 'FECHACANC', 'FECHACANC.1', 'TIPOPAGO', 'CODTRIBUTO', 'CONCEPTO']\n",
        "df[col_interes].head()"
      ],
      "metadata": {
        "id": "EPTLbgPa5-i7",
        "colab": {
          "base_uri": "https://localhost:8080/",
          "height": 206
        },
        "outputId": "2523081c-60cb-4356-fb7e-6ff305be1a90"
      },
      "execution_count": 81,
      "outputs": [
        {
          "output_type": "execute_result",
          "data": {
            "text/plain": [
              "   CODPERSONA  TOTALCOBRADO  RECIBIDO  FECHACANC FECHACANC.1  TIPOPAGO  \\\n",
              "0        4066        146.05   146.05   3/01/2022   lunes0103       BCP   \n",
              "1        4066         44.36    44.36   3/01/2022   lunes0103       BCP   \n",
              "2        4066         44.36    44.36   3/01/2022   lunes0103       BCP   \n",
              "3        4066         44.36    44.36   3/01/2022   lunes0103       BCP   \n",
              "4       10321        518.28   600.00   4/01/2022  martes0104  EFECTIVO   \n",
              "\n",
              "   CODTRIBUTO            CONCEPTO  \n",
              "0         1.0    IMPUESTO PREDIAL  \n",
              "1         1.0    LIMPIEZA PÚBLICA  \n",
              "2         3.0  PARQUES Y JARDINES  \n",
              "3         4.0           SERENAZGO  \n",
              "4         1.0    IMPUESTO PREDIAL  "
            ],
            "text/html": [
              "\n",
              "  <div id=\"df-5f49bd86-4731-4298-ab37-b07fc88762cd\">\n",
              "    <div class=\"colab-df-container\">\n",
              "      <div>\n",
              "<style scoped>\n",
              "    .dataframe tbody tr th:only-of-type {\n",
              "        vertical-align: middle;\n",
              "    }\n",
              "\n",
              "    .dataframe tbody tr th {\n",
              "        vertical-align: top;\n",
              "    }\n",
              "\n",
              "    .dataframe thead th {\n",
              "        text-align: right;\n",
              "    }\n",
              "</style>\n",
              "<table border=\"1\" class=\"dataframe\">\n",
              "  <thead>\n",
              "    <tr style=\"text-align: right;\">\n",
              "      <th></th>\n",
              "      <th>CODPERSONA</th>\n",
              "      <th>TOTALCOBRADO</th>\n",
              "      <th>RECIBIDO</th>\n",
              "      <th>FECHACANC</th>\n",
              "      <th>FECHACANC.1</th>\n",
              "      <th>TIPOPAGO</th>\n",
              "      <th>CODTRIBUTO</th>\n",
              "      <th>CONCEPTO</th>\n",
              "    </tr>\n",
              "  </thead>\n",
              "  <tbody>\n",
              "    <tr>\n",
              "      <th>0</th>\n",
              "      <td>4066</td>\n",
              "      <td>146.05</td>\n",
              "      <td>146.05</td>\n",
              "      <td>3/01/2022</td>\n",
              "      <td>lunes0103</td>\n",
              "      <td>BCP</td>\n",
              "      <td>1.0</td>\n",
              "      <td>IMPUESTO PREDIAL</td>\n",
              "    </tr>\n",
              "    <tr>\n",
              "      <th>1</th>\n",
              "      <td>4066</td>\n",
              "      <td>44.36</td>\n",
              "      <td>44.36</td>\n",
              "      <td>3/01/2022</td>\n",
              "      <td>lunes0103</td>\n",
              "      <td>BCP</td>\n",
              "      <td>1.0</td>\n",
              "      <td>LIMPIEZA PÚBLICA</td>\n",
              "    </tr>\n",
              "    <tr>\n",
              "      <th>2</th>\n",
              "      <td>4066</td>\n",
              "      <td>44.36</td>\n",
              "      <td>44.36</td>\n",
              "      <td>3/01/2022</td>\n",
              "      <td>lunes0103</td>\n",
              "      <td>BCP</td>\n",
              "      <td>3.0</td>\n",
              "      <td>PARQUES Y JARDINES</td>\n",
              "    </tr>\n",
              "    <tr>\n",
              "      <th>3</th>\n",
              "      <td>4066</td>\n",
              "      <td>44.36</td>\n",
              "      <td>44.36</td>\n",
              "      <td>3/01/2022</td>\n",
              "      <td>lunes0103</td>\n",
              "      <td>BCP</td>\n",
              "      <td>4.0</td>\n",
              "      <td>SERENAZGO</td>\n",
              "    </tr>\n",
              "    <tr>\n",
              "      <th>4</th>\n",
              "      <td>10321</td>\n",
              "      <td>518.28</td>\n",
              "      <td>600.00</td>\n",
              "      <td>4/01/2022</td>\n",
              "      <td>martes0104</td>\n",
              "      <td>EFECTIVO</td>\n",
              "      <td>1.0</td>\n",
              "      <td>IMPUESTO PREDIAL</td>\n",
              "    </tr>\n",
              "  </tbody>\n",
              "</table>\n",
              "</div>\n",
              "      <button class=\"colab-df-convert\" onclick=\"convertToInteractive('df-5f49bd86-4731-4298-ab37-b07fc88762cd')\"\n",
              "              title=\"Convert this dataframe to an interactive table.\"\n",
              "              style=\"display:none;\">\n",
              "        \n",
              "  <svg xmlns=\"http://www.w3.org/2000/svg\" height=\"24px\"viewBox=\"0 0 24 24\"\n",
              "       width=\"24px\">\n",
              "    <path d=\"M0 0h24v24H0V0z\" fill=\"none\"/>\n",
              "    <path d=\"M18.56 5.44l.94 2.06.94-2.06 2.06-.94-2.06-.94-.94-2.06-.94 2.06-2.06.94zm-11 1L8.5 8.5l.94-2.06 2.06-.94-2.06-.94L8.5 2.5l-.94 2.06-2.06.94zm10 10l.94 2.06.94-2.06 2.06-.94-2.06-.94-.94-2.06-.94 2.06-2.06.94z\"/><path d=\"M17.41 7.96l-1.37-1.37c-.4-.4-.92-.59-1.43-.59-.52 0-1.04.2-1.43.59L10.3 9.45l-7.72 7.72c-.78.78-.78 2.05 0 2.83L4 21.41c.39.39.9.59 1.41.59.51 0 1.02-.2 1.41-.59l7.78-7.78 2.81-2.81c.8-.78.8-2.07 0-2.86zM5.41 20L4 18.59l7.72-7.72 1.47 1.35L5.41 20z\"/>\n",
              "  </svg>\n",
              "      </button>\n",
              "      \n",
              "  <style>\n",
              "    .colab-df-container {\n",
              "      display:flex;\n",
              "      flex-wrap:wrap;\n",
              "      gap: 12px;\n",
              "    }\n",
              "\n",
              "    .colab-df-convert {\n",
              "      background-color: #E8F0FE;\n",
              "      border: none;\n",
              "      border-radius: 50%;\n",
              "      cursor: pointer;\n",
              "      display: none;\n",
              "      fill: #1967D2;\n",
              "      height: 32px;\n",
              "      padding: 0 0 0 0;\n",
              "      width: 32px;\n",
              "    }\n",
              "\n",
              "    .colab-df-convert:hover {\n",
              "      background-color: #E2EBFA;\n",
              "      box-shadow: 0px 1px 2px rgba(60, 64, 67, 0.3), 0px 1px 3px 1px rgba(60, 64, 67, 0.15);\n",
              "      fill: #174EA6;\n",
              "    }\n",
              "\n",
              "    [theme=dark] .colab-df-convert {\n",
              "      background-color: #3B4455;\n",
              "      fill: #D2E3FC;\n",
              "    }\n",
              "\n",
              "    [theme=dark] .colab-df-convert:hover {\n",
              "      background-color: #434B5C;\n",
              "      box-shadow: 0px 1px 3px 1px rgba(0, 0, 0, 0.15);\n",
              "      filter: drop-shadow(0px 1px 2px rgba(0, 0, 0, 0.3));\n",
              "      fill: #FFFFFF;\n",
              "    }\n",
              "  </style>\n",
              "\n",
              "      <script>\n",
              "        const buttonEl =\n",
              "          document.querySelector('#df-5f49bd86-4731-4298-ab37-b07fc88762cd button.colab-df-convert');\n",
              "        buttonEl.style.display =\n",
              "          google.colab.kernel.accessAllowed ? 'block' : 'none';\n",
              "\n",
              "        async function convertToInteractive(key) {\n",
              "          const element = document.querySelector('#df-5f49bd86-4731-4298-ab37-b07fc88762cd');\n",
              "          const dataTable =\n",
              "            await google.colab.kernel.invokeFunction('convertToInteractive',\n",
              "                                                     [key], {});\n",
              "          if (!dataTable) return;\n",
              "\n",
              "          const docLinkHtml = 'Like what you see? Visit the ' +\n",
              "            '<a target=\"_blank\" href=https://colab.research.google.com/notebooks/data_table.ipynb>data table notebook</a>'\n",
              "            + ' to learn more about interactive tables.';\n",
              "          element.innerHTML = '';\n",
              "          dataTable['output_type'] = 'display_data';\n",
              "          await google.colab.output.renderOutput(dataTable, element);\n",
              "          const docLink = document.createElement('div');\n",
              "          docLink.innerHTML = docLinkHtml;\n",
              "          element.appendChild(docLink);\n",
              "        }\n",
              "      </script>\n",
              "    </div>\n",
              "  </div>\n",
              "  "
            ]
          },
          "metadata": {},
          "execution_count": 81
        }
      ]
    },
    {
      "cell_type": "code",
      "source": [
        "from tables import index\n",
        "\n",
        "dataTipoPago = df.groupby(['TIPOPAGO']).agg({'TIPOPAGO':'count', 'TOTALCOBRADO':['sum', 'max']})\n",
        "dataTipoPago = dataTipoPago.reset_index()\n",
        "\n",
        "headers = ['TipoPago', 'Count', 'Sum', 'Max']\n",
        "dataTipoPago.columns = headers\n",
        "\n",
        "dataTipoPagoSortBySum = dataTipoPago.sort_values(by=['Sum'], ascending=False).reset_index().drop(['index'], axis=1)\n",
        "dataTipoPagoSortBySum"
      ],
      "metadata": {
        "colab": {
          "base_uri": "https://localhost:8080/",
          "height": 206
        },
        "id": "rN-CieBkznFS",
        "outputId": "512008e5-d158-443c-8365-4c097818df7a"
      },
      "execution_count": 51,
      "outputs": [
        {
          "output_type": "execute_result",
          "data": {
            "text/plain": [
              "   TipoPago  Count           Sum        Max\n",
              "0       BCP  32970  2.873328e+08  437071.76\n",
              "1  EFECTIVO  45280  3.467979e+07   73015.13\n",
              "2      VISA  21981  2.999377e+07   28165.71\n",
              "3   OPENPAY   1065  3.166908e+06    8725.87\n",
              "4    CHEQUE    563  3.010220e+06   24521.00"
            ],
            "text/html": [
              "\n",
              "  <div id=\"df-2da4cd6e-e227-47d0-86fc-173f82adec60\">\n",
              "    <div class=\"colab-df-container\">\n",
              "      <div>\n",
              "<style scoped>\n",
              "    .dataframe tbody tr th:only-of-type {\n",
              "        vertical-align: middle;\n",
              "    }\n",
              "\n",
              "    .dataframe tbody tr th {\n",
              "        vertical-align: top;\n",
              "    }\n",
              "\n",
              "    .dataframe thead th {\n",
              "        text-align: right;\n",
              "    }\n",
              "</style>\n",
              "<table border=\"1\" class=\"dataframe\">\n",
              "  <thead>\n",
              "    <tr style=\"text-align: right;\">\n",
              "      <th></th>\n",
              "      <th>TipoPago</th>\n",
              "      <th>Count</th>\n",
              "      <th>Sum</th>\n",
              "      <th>Max</th>\n",
              "    </tr>\n",
              "  </thead>\n",
              "  <tbody>\n",
              "    <tr>\n",
              "      <th>0</th>\n",
              "      <td>BCP</td>\n",
              "      <td>32970</td>\n",
              "      <td>2.873328e+08</td>\n",
              "      <td>437071.76</td>\n",
              "    </tr>\n",
              "    <tr>\n",
              "      <th>1</th>\n",
              "      <td>EFECTIVO</td>\n",
              "      <td>45280</td>\n",
              "      <td>3.467979e+07</td>\n",
              "      <td>73015.13</td>\n",
              "    </tr>\n",
              "    <tr>\n",
              "      <th>2</th>\n",
              "      <td>VISA</td>\n",
              "      <td>21981</td>\n",
              "      <td>2.999377e+07</td>\n",
              "      <td>28165.71</td>\n",
              "    </tr>\n",
              "    <tr>\n",
              "      <th>3</th>\n",
              "      <td>OPENPAY</td>\n",
              "      <td>1065</td>\n",
              "      <td>3.166908e+06</td>\n",
              "      <td>8725.87</td>\n",
              "    </tr>\n",
              "    <tr>\n",
              "      <th>4</th>\n",
              "      <td>CHEQUE</td>\n",
              "      <td>563</td>\n",
              "      <td>3.010220e+06</td>\n",
              "      <td>24521.00</td>\n",
              "    </tr>\n",
              "  </tbody>\n",
              "</table>\n",
              "</div>\n",
              "      <button class=\"colab-df-convert\" onclick=\"convertToInteractive('df-2da4cd6e-e227-47d0-86fc-173f82adec60')\"\n",
              "              title=\"Convert this dataframe to an interactive table.\"\n",
              "              style=\"display:none;\">\n",
              "        \n",
              "  <svg xmlns=\"http://www.w3.org/2000/svg\" height=\"24px\"viewBox=\"0 0 24 24\"\n",
              "       width=\"24px\">\n",
              "    <path d=\"M0 0h24v24H0V0z\" fill=\"none\"/>\n",
              "    <path d=\"M18.56 5.44l.94 2.06.94-2.06 2.06-.94-2.06-.94-.94-2.06-.94 2.06-2.06.94zm-11 1L8.5 8.5l.94-2.06 2.06-.94-2.06-.94L8.5 2.5l-.94 2.06-2.06.94zm10 10l.94 2.06.94-2.06 2.06-.94-2.06-.94-.94-2.06-.94 2.06-2.06.94z\"/><path d=\"M17.41 7.96l-1.37-1.37c-.4-.4-.92-.59-1.43-.59-.52 0-1.04.2-1.43.59L10.3 9.45l-7.72 7.72c-.78.78-.78 2.05 0 2.83L4 21.41c.39.39.9.59 1.41.59.51 0 1.02-.2 1.41-.59l7.78-7.78 2.81-2.81c.8-.78.8-2.07 0-2.86zM5.41 20L4 18.59l7.72-7.72 1.47 1.35L5.41 20z\"/>\n",
              "  </svg>\n",
              "      </button>\n",
              "      \n",
              "  <style>\n",
              "    .colab-df-container {\n",
              "      display:flex;\n",
              "      flex-wrap:wrap;\n",
              "      gap: 12px;\n",
              "    }\n",
              "\n",
              "    .colab-df-convert {\n",
              "      background-color: #E8F0FE;\n",
              "      border: none;\n",
              "      border-radius: 50%;\n",
              "      cursor: pointer;\n",
              "      display: none;\n",
              "      fill: #1967D2;\n",
              "      height: 32px;\n",
              "      padding: 0 0 0 0;\n",
              "      width: 32px;\n",
              "    }\n",
              "\n",
              "    .colab-df-convert:hover {\n",
              "      background-color: #E2EBFA;\n",
              "      box-shadow: 0px 1px 2px rgba(60, 64, 67, 0.3), 0px 1px 3px 1px rgba(60, 64, 67, 0.15);\n",
              "      fill: #174EA6;\n",
              "    }\n",
              "\n",
              "    [theme=dark] .colab-df-convert {\n",
              "      background-color: #3B4455;\n",
              "      fill: #D2E3FC;\n",
              "    }\n",
              "\n",
              "    [theme=dark] .colab-df-convert:hover {\n",
              "      background-color: #434B5C;\n",
              "      box-shadow: 0px 1px 3px 1px rgba(0, 0, 0, 0.15);\n",
              "      filter: drop-shadow(0px 1px 2px rgba(0, 0, 0, 0.3));\n",
              "      fill: #FFFFFF;\n",
              "    }\n",
              "  </style>\n",
              "\n",
              "      <script>\n",
              "        const buttonEl =\n",
              "          document.querySelector('#df-2da4cd6e-e227-47d0-86fc-173f82adec60 button.colab-df-convert');\n",
              "        buttonEl.style.display =\n",
              "          google.colab.kernel.accessAllowed ? 'block' : 'none';\n",
              "\n",
              "        async function convertToInteractive(key) {\n",
              "          const element = document.querySelector('#df-2da4cd6e-e227-47d0-86fc-173f82adec60');\n",
              "          const dataTable =\n",
              "            await google.colab.kernel.invokeFunction('convertToInteractive',\n",
              "                                                     [key], {});\n",
              "          if (!dataTable) return;\n",
              "\n",
              "          const docLinkHtml = 'Like what you see? Visit the ' +\n",
              "            '<a target=\"_blank\" href=https://colab.research.google.com/notebooks/data_table.ipynb>data table notebook</a>'\n",
              "            + ' to learn more about interactive tables.';\n",
              "          element.innerHTML = '';\n",
              "          dataTable['output_type'] = 'display_data';\n",
              "          await google.colab.output.renderOutput(dataTable, element);\n",
              "          const docLink = document.createElement('div');\n",
              "          docLink.innerHTML = docLinkHtml;\n",
              "          element.appendChild(docLink);\n",
              "        }\n",
              "      </script>\n",
              "    </div>\n",
              "  </div>\n",
              "  "
            ]
          },
          "metadata": {},
          "execution_count": 51
        }
      ]
    },
    {
      "cell_type": "code",
      "source": [
        "import matplotlib.pyplot as plt\n",
        "\n",
        "x = dataTipoPagoSortBySum.TipoPago.tolist()\n",
        "y = dataTipoPagoSortBySum.Sum.tolist()\n",
        "\n",
        "# customized dict for our title\n",
        "font = {'family': 'sans-serif',\n",
        "        'color':  'darkred',\n",
        "        'weight': 'normal',\n",
        "        'size': 20,\n",
        "        }\n",
        "\n",
        "plt.title('Canales de Recaudación', fontdict=font)\n",
        "plt.xlabel('Concepto')\n",
        "plt.ylabel('Total')\n",
        "\n",
        "# Rotating X-axis labels\n",
        "plt.xticks(rotation = 90)\n",
        "\n",
        "plt.bar(x, y)\n",
        "plt.show()"
      ],
      "metadata": {
        "colab": {
          "base_uri": "https://localhost:8080/",
          "height": 339
        },
        "id": "tUBQKTUIznIH",
        "outputId": "76066d44-ce6a-43b7-be4a-67abe3fbed22"
      },
      "execution_count": 55,
      "outputs": [
        {
          "output_type": "display_data",
          "data": {
            "text/plain": [
              "<Figure size 432x288 with 1 Axes>"
            ],
            "image/png": "[encoded data removed]"
          },
          "metadata": {
            "needs_background": "light"
          }
        }
      ]
    },
    {
      "cell_type": "code",
      "source": [],
      "metadata": {
        "id": "qM1b-xe53U-b"
      },
      "execution_count": null,
      "outputs": []
    },
    {
      "cell_type": "code",
      "source": [],
      "metadata": {
        "id": "l6OdTqZ23VBA"
      },
      "execution_count": null,
      "outputs": []
    },
    {
      "cell_type": "code",
      "source": [],
      "metadata": {
        "id": "TDqoH3hR3VC7"
      },
      "execution_count": null,
      "outputs": []
    },
    {
      "cell_type": "code",
      "source": [
        "dataContepto = df.groupby(['CONCEPTO']).agg({'CONCEPTO':'count',\n",
        "                                             'TOTALCOBRADO':['sum', 'max']})\n",
        "dataContepto = dataContepto.reset_index()\n",
        "dataContepto.head()"
      ],
      "metadata": {
        "colab": {
          "base_uri": "https://localhost:8080/",
          "height": 238
        },
        "id": "UUwfcbN-nxV4",
        "outputId": "77fedb6e-874f-4fe1-9abd-df68c7063e6a"
      },
      "execution_count": 57,
      "outputs": [
        {
          "output_type": "execute_result",
          "data": {
            "text/plain": [
              "                           CONCEPTO       TOTALCOBRADO           \n",
              "                                    count          sum        max\n",
              "0                          ALCABALA     8    362380.38  155461.52\n",
              "1                 BAÑOS MUNICIPALES   398     48323.85    1351.00\n",
              "2                           CARNETS    14       263.20      18.80\n",
              "3  CARNETS Y/O TARJETAS DE ATENCION   231      4334.00      18.80\n",
              "4        CERTIFICADOS DOMICILIARIOS     1         8.80       8.80"
            ],
            "text/html": [
              "\n",
              "  <div id=\"df-055fbb09-3edd-4fff-9085-c8ea7f680393\">\n",
              "    <div class=\"colab-df-container\">\n",
              "      <div>\n",
              "<style scoped>\n",
              "    .dataframe tbody tr th:only-of-type {\n",
              "        vertical-align: middle;\n",
              "    }\n",
              "\n",
              "    .dataframe tbody tr th {\n",
              "        vertical-align: top;\n",
              "    }\n",
              "\n",
              "    .dataframe thead tr th {\n",
              "        text-align: left;\n",
              "    }\n",
              "</style>\n",
              "<table border=\"1\" class=\"dataframe\">\n",
              "  <thead>\n",
              "    <tr>\n",
              "      <th></th>\n",
              "      <th colspan=\"2\" halign=\"left\">CONCEPTO</th>\n",
              "      <th colspan=\"2\" halign=\"left\">TOTALCOBRADO</th>\n",
              "    </tr>\n",
              "    <tr>\n",
              "      <th></th>\n",
              "      <th></th>\n",
              "      <th>count</th>\n",
              "      <th>sum</th>\n",
              "      <th>max</th>\n",
              "    </tr>\n",
              "  </thead>\n",
              "  <tbody>\n",
              "    <tr>\n",
              "      <th>0</th>\n",
              "      <td>ALCABALA</td>\n",
              "      <td>8</td>\n",
              "      <td>362380.38</td>\n",
              "      <td>155461.52</td>\n",
              "    </tr>\n",
              "    <tr>\n",
              "      <th>1</th>\n",
              "      <td>BAÑOS MUNICIPALES</td>\n",
              "      <td>398</td>\n",
              "      <td>48323.85</td>\n",
              "      <td>1351.00</td>\n",
              "    </tr>\n",
              "    <tr>\n",
              "      <th>2</th>\n",
              "      <td>CARNETS</td>\n",
              "      <td>14</td>\n",
              "      <td>263.20</td>\n",
              "      <td>18.80</td>\n",
              "    </tr>\n",
              "    <tr>\n",
              "      <th>3</th>\n",
              "      <td>CARNETS Y/O TARJETAS DE ATENCION</td>\n",
              "      <td>231</td>\n",
              "      <td>4334.00</td>\n",
              "      <td>18.80</td>\n",
              "    </tr>\n",
              "    <tr>\n",
              "      <th>4</th>\n",
              "      <td>CERTIFICADOS DOMICILIARIOS</td>\n",
              "      <td>1</td>\n",
              "      <td>8.80</td>\n",
              "      <td>8.80</td>\n",
              "    </tr>\n",
              "  </tbody>\n",
              "</table>\n",
              "</div>\n",
              "      <button class=\"colab-df-convert\" onclick=\"convertToInteractive('df-055fbb09-3edd-4fff-9085-c8ea7f680393')\"\n",
              "              title=\"Convert this dataframe to an interactive table.\"\n",
              "              style=\"display:none;\">\n",
              "        \n",
              "  <svg xmlns=\"http://www.w3.org/2000/svg\" height=\"24px\"viewBox=\"0 0 24 24\"\n",
              "       width=\"24px\">\n",
              "    <path d=\"M0 0h24v24H0V0z\" fill=\"none\"/>\n",
              "    <path d=\"M18.56 5.44l.94 2.06.94-2.06 2.06-.94-2.06-.94-.94-2.06-.94 2.06-2.06.94zm-11 1L8.5 8.5l.94-2.06 2.06-.94-2.06-.94L8.5 2.5l-.94 2.06-2.06.94zm10 10l.94 2.06.94-2.06 2.06-.94-2.06-.94-.94-2.06-.94 2.06-2.06.94z\"/><path d=\"M17.41 7.96l-1.37-1.37c-.4-.4-.92-.59-1.43-.59-.52 0-1.04.2-1.43.59L10.3 9.45l-7.72 7.72c-.78.78-.78 2.05 0 2.83L4 21.41c.39.39.9.59 1.41.59.51 0 1.02-.2 1.41-.59l7.78-7.78 2.81-2.81c.8-.78.8-2.07 0-2.86zM5.41 20L4 18.59l7.72-7.72 1.47 1.35L5.41 20z\"/>\n",
              "  </svg>\n",
              "      </button>\n",
              "      \n",
              "  <style>\n",
              "    .colab-df-container {\n",
              "      display:flex;\n",
              "      flex-wrap:wrap;\n",
              "      gap: 12px;\n",
              "    }\n",
              "\n",
              "    .colab-df-convert {\n",
              "      background-color: #E8F0FE;\n",
              "      border: none;\n",
              "      border-radius: 50%;\n",
              "      cursor: pointer;\n",
              "      display: none;\n",
              "      fill: #1967D2;\n",
              "      height: 32px;\n",
              "      padding: 0 0 0 0;\n",
              "      width: 32px;\n",
              "    }\n",
              "\n",
              "    .colab-df-convert:hover {\n",
              "      background-color: #E2EBFA;\n",
              "      box-shadow: 0px 1px 2px rgba(60, 64, 67, 0.3), 0px 1px 3px 1px rgba(60, 64, 67, 0.15);\n",
              "      fill: #174EA6;\n",
              "    }\n",
              "\n",
              "    [theme=dark] .colab-df-convert {\n",
              "      background-color: #3B4455;\n",
              "      fill: #D2E3FC;\n",
              "    }\n",
              "\n",
              "    [theme=dark] .colab-df-convert:hover {\n",
              "      background-color: #434B5C;\n",
              "      box-shadow: 0px 1px 3px 1px rgba(0, 0, 0, 0.15);\n",
              "      filter: drop-shadow(0px 1px 2px rgba(0, 0, 0, 0.3));\n",
              "      fill: #FFFFFF;\n",
              "    }\n",
              "  </style>\n",
              "\n",
              "      <script>\n",
              "        const buttonEl =\n",
              "          document.querySelector('#df-055fbb09-3edd-4fff-9085-c8ea7f680393 button.colab-df-convert');\n",
              "        buttonEl.style.display =\n",
              "          google.colab.kernel.accessAllowed ? 'block' : 'none';\n",
              "\n",
              "        async function convertToInteractive(key) {\n",
              "          const element = document.querySelector('#df-055fbb09-3edd-4fff-9085-c8ea7f680393');\n",
              "          const dataTable =\n",
              "            await google.colab.kernel.invokeFunction('convertToInteractive',\n",
              "                                                     [key], {});\n",
              "          if (!dataTable) return;\n",
              "\n",
              "          const docLinkHtml = 'Like what you see? Visit the ' +\n",
              "            '<a target=\"_blank\" href=https://colab.research.google.com/notebooks/data_table.ipynb>data table notebook</a>'\n",
              "            + ' to learn more about interactive tables.';\n",
              "          element.innerHTML = '';\n",
              "          dataTable['output_type'] = 'display_data';\n",
              "          await google.colab.output.renderOutput(dataTable, element);\n",
              "          const docLink = document.createElement('div');\n",
              "          docLink.innerHTML = docLinkHtml;\n",
              "          element.appendChild(docLink);\n",
              "        }\n",
              "      </script>\n",
              "    </div>\n",
              "  </div>\n",
              "  "
            ]
          },
          "metadata": {},
          "execution_count": 57
        }
      ]
    },
    {
      "cell_type": "code",
      "source": [
        "dataContepto.shape"
      ],
      "metadata": {
        "colab": {
          "base_uri": "https://localhost:8080/"
        },
        "id": "aG0Ux6Pq8ij8",
        "outputId": "8ab8204b-78cb-41eb-db85-3cdd21328408"
      },
      "execution_count": 58,
      "outputs": [
        {
          "output_type": "execute_result",
          "data": {
            "text/plain": [
              "(53, 4)"
            ]
          },
          "metadata": {},
          "execution_count": 58
        }
      ]
    },
    {
      "cell_type": "code",
      "source": [
        "dataContepto.columns"
      ],
      "metadata": {
        "colab": {
          "base_uri": "https://localhost:8080/"
        },
        "id": "C7Eaa3Q8wqze",
        "outputId": "18b441ab-038c-4da5-9ff7-4a0c10888e5d"
      },
      "execution_count": 59,
      "outputs": [
        {
          "output_type": "execute_result",
          "data": {
            "text/plain": [
              "MultiIndex([(    'CONCEPTO',      ''),\n",
              "            (    'CONCEPTO', 'count'),\n",
              "            ('TOTALCOBRADO',   'sum'),\n",
              "            ('TOTALCOBRADO',   'max')],\n",
              "           )"
            ]
          },
          "metadata": {},
          "execution_count": 59
        }
      ]
    },
    {
      "cell_type": "code",
      "source": [
        "from tables import index\n",
        "headers = ['Concepto', 'Count', 'Sum', 'Max']\n",
        "dataContepto.columns = headers\n",
        "\n",
        "dataConteptoSortBySum = dataContepto.sort_values(by=['Sum'], ascending=False).reset_index().drop(['index'], axis=1)\n",
        "dataConteptoSortBySum.head()"
      ],
      "metadata": {
        "colab": {
          "base_uri": "https://localhost:8080/",
          "height": 206
        },
        "id": "H-gC68rR1Knu",
        "outputId": "825c28f1-2609-432e-ec67-3dedab0ab43e"
      },
      "execution_count": 60,
      "outputs": [
        {
          "output_type": "execute_result",
          "data": {
            "text/plain": [
              "             Concepto  Count           Sum        Max\n",
              "0    LIMPIEZA PÚBLICA  27463  1.149202e+08  437071.76\n",
              "1           SERENAZGO  26450  1.118026e+08  437071.76\n",
              "2  PARQUES Y JARDINES  21956  9.702921e+07  437071.76\n",
              "3    IMPUESTO PREDIAL  20222  3.206345e+07  437071.76\n",
              "4    MULTA TRIBUTARIA     94  6.998169e+05  139731.69"
            ],
            "text/html": [
              "\n",
              "  <div id=\"df-af173d69-6f8c-40f5-bb43-a1bab3718656\">\n",
              "    <div class=\"colab-df-container\">\n",
              "      <div>\n",
              "<style scoped>\n",
              "    .dataframe tbody tr th:only-of-type {\n",
              "        vertical-align: middle;\n",
              "    }\n",
              "\n",
              "    .dataframe tbody tr th {\n",
              "        vertical-align: top;\n",
              "    }\n",
              "\n",
              "    .dataframe thead th {\n",
              "        text-align: right;\n",
              "    }\n",
              "</style>\n",
              "<table border=\"1\" class=\"dataframe\">\n",
              "  <thead>\n",
              "    <tr style=\"text-align: right;\">\n",
              "      <th></th>\n",
              "      <th>Concepto</th>\n",
              "      <th>Count</th>\n",
              "      <th>Sum</th>\n",
              "      <th>Max</th>\n",
              "    </tr>\n",
              "  </thead>\n",
              "  <tbody>\n",
              "    <tr>\n",
              "      <th>0</th>\n",
              "      <td>LIMPIEZA PÚBLICA</td>\n",
              "      <td>27463</td>\n",
              "      <td>1.149202e+08</td>\n",
              "      <td>437071.76</td>\n",
              "    </tr>\n",
              "    <tr>\n",
              "      <th>1</th>\n",
              "      <td>SERENAZGO</td>\n",
              "      <td>26450</td>\n",
              "      <td>1.118026e+08</td>\n",
              "      <td>437071.76</td>\n",
              "    </tr>\n",
              "    <tr>\n",
              "      <th>2</th>\n",
              "      <td>PARQUES Y JARDINES</td>\n",
              "      <td>21956</td>\n",
              "      <td>9.702921e+07</td>\n",
              "      <td>437071.76</td>\n",
              "    </tr>\n",
              "    <tr>\n",
              "      <th>3</th>\n",
              "      <td>IMPUESTO PREDIAL</td>\n",
              "      <td>20222</td>\n",
              "      <td>3.206345e+07</td>\n",
              "      <td>437071.76</td>\n",
              "    </tr>\n",
              "    <tr>\n",
              "      <th>4</th>\n",
              "      <td>MULTA TRIBUTARIA</td>\n",
              "      <td>94</td>\n",
              "      <td>6.998169e+05</td>\n",
              "      <td>139731.69</td>\n",
              "    </tr>\n",
              "  </tbody>\n",
              "</table>\n",
              "</div>\n",
              "      <button class=\"colab-df-convert\" onclick=\"convertToInteractive('df-af173d69-6f8c-40f5-bb43-a1bab3718656')\"\n",
              "              title=\"Convert this dataframe to an interactive table.\"\n",
              "              style=\"display:none;\">\n",
              "        \n",
              "  <svg xmlns=\"http://www.w3.org/2000/svg\" height=\"24px\"viewBox=\"0 0 24 24\"\n",
              "       width=\"24px\">\n",
              "    <path d=\"M0 0h24v24H0V0z\" fill=\"none\"/>\n",
              "    <path d=\"M18.56 5.44l.94 2.06.94-2.06 2.06-.94-2.06-.94-.94-2.06-.94 2.06-2.06.94zm-11 1L8.5 8.5l.94-2.06 2.06-.94-2.06-.94L8.5 2.5l-.94 2.06-2.06.94zm10 10l.94 2.06.94-2.06 2.06-.94-2.06-.94-.94-2.06-.94 2.06-2.06.94z\"/><path d=\"M17.41 7.96l-1.37-1.37c-.4-.4-.92-.59-1.43-.59-.52 0-1.04.2-1.43.59L10.3 9.45l-7.72 7.72c-.78.78-.78 2.05 0 2.83L4 21.41c.39.39.9.59 1.41.59.51 0 1.02-.2 1.41-.59l7.78-7.78 2.81-2.81c.8-.78.8-2.07 0-2.86zM5.41 20L4 18.59l7.72-7.72 1.47 1.35L5.41 20z\"/>\n",
              "  </svg>\n",
              "      </button>\n",
              "      \n",
              "  <style>\n",
              "    .colab-df-container {\n",
              "      display:flex;\n",
              "      flex-wrap:wrap;\n",
              "      gap: 12px;\n",
              "    }\n",
              "\n",
              "    .colab-df-convert {\n",
              "      background-color: #E8F0FE;\n",
              "      border: none;\n",
              "      border-radius: 50%;\n",
              "      cursor: pointer;\n",
              "      display: none;\n",
              "      fill: #1967D2;\n",
              "      height: 32px;\n",
              "      padding: 0 0 0 0;\n",
              "      width: 32px;\n",
              "    }\n",
              "\n",
              "    .colab-df-convert:hover {\n",
              "      background-color: #E2EBFA;\n",
              "      box-shadow: 0px 1px 2px rgba(60, 64, 67, 0.3), 0px 1px 3px 1px rgba(60, 64, 67, 0.15);\n",
              "      fill: #174EA6;\n",
              "    }\n",
              "\n",
              "    [theme=dark] .colab-df-convert {\n",
              "      background-color: #3B4455;\n",
              "      fill: #D2E3FC;\n",
              "    }\n",
              "\n",
              "    [theme=dark] .colab-df-convert:hover {\n",
              "      background-color: #434B5C;\n",
              "      box-shadow: 0px 1px 3px 1px rgba(0, 0, 0, 0.15);\n",
              "      filter: drop-shadow(0px 1px 2px rgba(0, 0, 0, 0.3));\n",
              "      fill: #FFFFFF;\n",
              "    }\n",
              "  </style>\n",
              "\n",
              "      <script>\n",
              "        const buttonEl =\n",
              "          document.querySelector('#df-af173d69-6f8c-40f5-bb43-a1bab3718656 button.colab-df-convert');\n",
              "        buttonEl.style.display =\n",
              "          google.colab.kernel.accessAllowed ? 'block' : 'none';\n",
              "\n",
              "        async function convertToInteractive(key) {\n",
              "          const element = document.querySelector('#df-af173d69-6f8c-40f5-bb43-a1bab3718656');\n",
              "          const dataTable =\n",
              "            await google.colab.kernel.invokeFunction('convertToInteractive',\n",
              "                                                     [key], {});\n",
              "          if (!dataTable) return;\n",
              "\n",
              "          const docLinkHtml = 'Like what you see? Visit the ' +\n",
              "            '<a target=\"_blank\" href=https://colab.research.google.com/notebooks/data_table.ipynb>data table notebook</a>'\n",
              "            + ' to learn more about interactive tables.';\n",
              "          element.innerHTML = '';\n",
              "          dataTable['output_type'] = 'display_data';\n",
              "          await google.colab.output.renderOutput(dataTable, element);\n",
              "          const docLink = document.createElement('div');\n",
              "          docLink.innerHTML = docLinkHtml;\n",
              "          element.appendChild(docLink);\n",
              "        }\n",
              "      </script>\n",
              "    </div>\n",
              "  </div>\n",
              "  "
            ]
          },
          "metadata": {},
          "execution_count": 60
        }
      ]
    },
    {
      "cell_type": "code",
      "source": [
        "dataConteptoSortBySum['Sum'].shape"
      ],
      "metadata": {
        "colab": {
          "base_uri": "https://localhost:8080/"
        },
        "id": "KGP9iEyxkcM7",
        "outputId": "05325da6-650d-4749-ef4a-aa64b7b14581"
      },
      "execution_count": 61,
      "outputs": [
        {
          "output_type": "execute_result",
          "data": {
            "text/plain": [
              "(53,)"
            ]
          },
          "metadata": {},
          "execution_count": 61
        }
      ]
    },
    {
      "cell_type": "code",
      "source": [
        "import matplotlib.pyplot as plt\n",
        "\n",
        "plt.boxplot(dataConteptoSortBySum['Sum'].tolist())\n",
        "plt.title('Pagos por Concepto')\n",
        "plt.show()"
      ],
      "metadata": {
        "colab": {
          "base_uri": "https://localhost:8080/",
          "height": 281
        },
        "id": "3YZ-CCUhhrTi",
        "outputId": "4146faf8-c4c1-47b1-b430-4437a6f5a66a"
      },
      "execution_count": 62,
      "outputs": [
        {
          "output_type": "display_data",
          "data": {
            "text/plain": [
              "<Figure size 432x288 with 1 Axes>"
            ],
            "image/png": "[encoded data removed]"
          },
          "metadata": {
            "needs_background": "light"
          }
        }
      ]
    },
    {
      "cell_type": "code",
      "source": [
        "import matplotlib.pyplot as plt\n",
        "\n",
        "plt.boxplot(dataConteptoSortBySum['Sum'].tail(20).tolist())\n",
        "plt.title('Pagos por Concepto')\n",
        "plt.show()"
      ],
      "metadata": {
        "colab": {
          "base_uri": "https://localhost:8080/",
          "height": 281
        },
        "id": "IMzS82yskotr",
        "outputId": "739609a7-a1a6-4d8a-900c-ff5c62f9a6fa"
      },
      "execution_count": 63,
      "outputs": [
        {
          "output_type": "display_data",
          "data": {
            "text/plain": [
              "<Figure size 432x288 with 1 Axes>"
            ],
            "image/png": "[encoded data removed]"
          },
          "metadata": {
            "needs_background": "light"
          }
        }
      ]
    },
    {
      "cell_type": "markdown",
      "source": [
        "## Evaluando los conceptos con mayor recaudación"
      ],
      "metadata": {
        "id": "EFDqXReL7kTa"
      }
    },
    {
      "cell_type": "code",
      "source": [
        "rango = dataConteptoSortBySum.index<5\n",
        "rango"
      ],
      "metadata": {
        "colab": {
          "base_uri": "https://localhost:8080/"
        },
        "id": "Ghwj4ZEN-XNX",
        "outputId": "de9e2c9d-0eab-4658-fb06-2e6b66d8cfef"
      },
      "execution_count": 75,
      "outputs": [
        {
          "output_type": "execute_result",
          "data": {
            "text/plain": [
              "array([ True,  True,  True,  True,  True, False, False, False, False,\n",
              "       False, False, False, False, False, False, False, False, False,\n",
              "       False, False, False, False, False, False, False, False, False,\n",
              "       False, False, False, False, False, False, False, False, False,\n",
              "       False, False, False, False, False, False, False, False, False,\n",
              "       False, False, False, False, False, False, False, False])"
            ]
          },
          "metadata": {},
          "execution_count": 75
        }
      ]
    },
    {
      "cell_type": "code",
      "source": [
        "dataConteptoSortBySum[rango]"
      ],
      "metadata": {
        "colab": {
          "base_uri": "https://localhost:8080/",
          "height": 206
        },
        "id": "xWaDu7Q4IzZt",
        "outputId": "bbf16eca-5ec9-4140-85d5-f160dcadc868"
      },
      "execution_count": 76,
      "outputs": [
        {
          "output_type": "execute_result",
          "data": {
            "text/plain": [
              "             Concepto  Count           Sum        Max\n",
              "0    LIMPIEZA PÚBLICA  27463  1.149202e+08  437071.76\n",
              "1           SERENAZGO  26450  1.118026e+08  437071.76\n",
              "2  PARQUES Y JARDINES  21956  9.702921e+07  437071.76\n",
              "3    IMPUESTO PREDIAL  20222  3.206345e+07  437071.76\n",
              "4    MULTA TRIBUTARIA     94  6.998169e+05  139731.69"
            ],
            "text/html": [
              "\n",
              "  <div id=\"df-1b7ac470-fe78-42ba-a5df-562715da6014\">\n",
              "    <div class=\"colab-df-container\">\n",
              "      <div>\n",
              "<style scoped>\n",
              "    .dataframe tbody tr th:only-of-type {\n",
              "        vertical-align: middle;\n",
              "    }\n",
              "\n",
              "    .dataframe tbody tr th {\n",
              "        vertical-align: top;\n",
              "    }\n",
              "\n",
              "    .dataframe thead th {\n",
              "        text-align: right;\n",
              "    }\n",
              "</style>\n",
              "<table border=\"1\" class=\"dataframe\">\n",
              "  <thead>\n",
              "    <tr style=\"text-align: right;\">\n",
              "      <th></th>\n",
              "      <th>Concepto</th>\n",
              "      <th>Count</th>\n",
              "      <th>Sum</th>\n",
              "      <th>Max</th>\n",
              "    </tr>\n",
              "  </thead>\n",
              "  <tbody>\n",
              "    <tr>\n",
              "      <th>0</th>\n",
              "      <td>LIMPIEZA PÚBLICA</td>\n",
              "      <td>27463</td>\n",
              "      <td>1.149202e+08</td>\n",
              "      <td>437071.76</td>\n",
              "    </tr>\n",
              "    <tr>\n",
              "      <th>1</th>\n",
              "      <td>SERENAZGO</td>\n",
              "      <td>26450</td>\n",
              "      <td>1.118026e+08</td>\n",
              "      <td>437071.76</td>\n",
              "    </tr>\n",
              "    <tr>\n",
              "      <th>2</th>\n",
              "      <td>PARQUES Y JARDINES</td>\n",
              "      <td>21956</td>\n",
              "      <td>9.702921e+07</td>\n",
              "      <td>437071.76</td>\n",
              "    </tr>\n",
              "    <tr>\n",
              "      <th>3</th>\n",
              "      <td>IMPUESTO PREDIAL</td>\n",
              "      <td>20222</td>\n",
              "      <td>3.206345e+07</td>\n",
              "      <td>437071.76</td>\n",
              "    </tr>\n",
              "    <tr>\n",
              "      <th>4</th>\n",
              "      <td>MULTA TRIBUTARIA</td>\n",
              "      <td>94</td>\n",
              "      <td>6.998169e+05</td>\n",
              "      <td>139731.69</td>\n",
              "    </tr>\n",
              "  </tbody>\n",
              "</table>\n",
              "</div>\n",
              "      <button class=\"colab-df-convert\" onclick=\"convertToInteractive('df-1b7ac470-fe78-42ba-a5df-562715da6014')\"\n",
              "              title=\"Convert this dataframe to an interactive table.\"\n",
              "              style=\"display:none;\">\n",
              "        \n",
              "  <svg xmlns=\"http://www.w3.org/2000/svg\" height=\"24px\"viewBox=\"0 0 24 24\"\n",
              "       width=\"24px\">\n",
              "    <path d=\"M0 0h24v24H0V0z\" fill=\"none\"/>\n",
              "    <path d=\"M18.56 5.44l.94 2.06.94-2.06 2.06-.94-2.06-.94-.94-2.06-.94 2.06-2.06.94zm-11 1L8.5 8.5l.94-2.06 2.06-.94-2.06-.94L8.5 2.5l-.94 2.06-2.06.94zm10 10l.94 2.06.94-2.06 2.06-.94-2.06-.94-.94-2.06-.94 2.06-2.06.94z\"/><path d=\"M17.41 7.96l-1.37-1.37c-.4-.4-.92-.59-1.43-.59-.52 0-1.04.2-1.43.59L10.3 9.45l-7.72 7.72c-.78.78-.78 2.05 0 2.83L4 21.41c.39.39.9.59 1.41.59.51 0 1.02-.2 1.41-.59l7.78-7.78 2.81-2.81c.8-.78.8-2.07 0-2.86zM5.41 20L4 18.59l7.72-7.72 1.47 1.35L5.41 20z\"/>\n",
              "  </svg>\n",
              "      </button>\n",
              "      \n",
              "  <style>\n",
              "    .colab-df-container {\n",
              "      display:flex;\n",
              "      flex-wrap:wrap;\n",
              "      gap: 12px;\n",
              "    }\n",
              "\n",
              "    .colab-df-convert {\n",
              "      background-color: #E8F0FE;\n",
              "      border: none;\n",
              "      border-radius: 50%;\n",
              "      cursor: pointer;\n",
              "      display: none;\n",
              "      fill: #1967D2;\n",
              "      height: 32px;\n",
              "      padding: 0 0 0 0;\n",
              "      width: 32px;\n",
              "    }\n",
              "\n",
              "    .colab-df-convert:hover {\n",
              "      background-color: #E2EBFA;\n",
              "      box-shadow: 0px 1px 2px rgba(60, 64, 67, 0.3), 0px 1px 3px 1px rgba(60, 64, 67, 0.15);\n",
              "      fill: #174EA6;\n",
              "    }\n",
              "\n",
              "    [theme=dark] .colab-df-convert {\n",
              "      background-color: #3B4455;\n",
              "      fill: #D2E3FC;\n",
              "    }\n",
              "\n",
              "    [theme=dark] .colab-df-convert:hover {\n",
              "      background-color: #434B5C;\n",
              "      box-shadow: 0px 1px 3px 1px rgba(0, 0, 0, 0.15);\n",
              "      filter: drop-shadow(0px 1px 2px rgba(0, 0, 0, 0.3));\n",
              "      fill: #FFFFFF;\n",
              "    }\n",
              "  </style>\n",
              "\n",
              "      <script>\n",
              "        const buttonEl =\n",
              "          document.querySelector('#df-1b7ac470-fe78-42ba-a5df-562715da6014 button.colab-df-convert');\n",
              "        buttonEl.style.display =\n",
              "          google.colab.kernel.accessAllowed ? 'block' : 'none';\n",
              "\n",
              "        async function convertToInteractive(key) {\n",
              "          const element = document.querySelector('#df-1b7ac470-fe78-42ba-a5df-562715da6014');\n",
              "          const dataTable =\n",
              "            await google.colab.kernel.invokeFunction('convertToInteractive',\n",
              "                                                     [key], {});\n",
              "          if (!dataTable) return;\n",
              "\n",
              "          const docLinkHtml = 'Like what you see? Visit the ' +\n",
              "            '<a target=\"_blank\" href=https://colab.research.google.com/notebooks/data_table.ipynb>data table notebook</a>'\n",
              "            + ' to learn more about interactive tables.';\n",
              "          element.innerHTML = '';\n",
              "          dataTable['output_type'] = 'display_data';\n",
              "          await google.colab.output.renderOutput(dataTable, element);\n",
              "          const docLink = document.createElement('div');\n",
              "          docLink.innerHTML = docLinkHtml;\n",
              "          element.appendChild(docLink);\n",
              "        }\n",
              "      </script>\n",
              "    </div>\n",
              "  </div>\n",
              "  "
            ]
          },
          "metadata": {},
          "execution_count": 76
        }
      ]
    },
    {
      "cell_type": "code",
      "source": [
        "import matplotlib.pyplot as plt\n",
        "\n",
        "# customized dict for our title\n",
        "font = {'family': 'sans-serif',\n",
        "        'color':  'darkred',\n",
        "        'weight': 'normal',\n",
        "        'size': 20,\n",
        "        }\n",
        "\n",
        "plt.title('Recaudación Top 5', fontdict=font)\n",
        "plt.xlabel('Concepto')\n",
        "plt.ylabel('Total')\n",
        "\n",
        "# Rotating X-axis labels\n",
        "plt.xticks(rotation = 90)\n",
        "plt.bar(dataConteptoSortBySum[rango].Concepto.tolist(), dataConteptoSortBySum[rango].Sum.tolist())\n",
        "\n",
        "plt.grid(True)\n",
        "plt.show()"
      ],
      "metadata": {
        "colab": {
          "base_uri": "https://localhost:8080/",
          "height": 397
        },
        "id": "frR5t7KLyK2v",
        "outputId": "9dc0fb25-bc78-492b-e4c7-201df6abe5e3"
      },
      "execution_count": 77,
      "outputs": [
        {
          "output_type": "display_data",
          "data": {
            "text/plain": [
              "<Figure size 432x288 with 1 Axes>"
            ],
            "image/png": "[encoded data removed]"
          },
          "metadata": {
            "needs_background": "light"
          }
        }
      ]
    },
    {
      "cell_type": "code",
      "source": [
        "plt.title('Recaudación Top 05-10', fontdict=font)\n",
        "plt.xlabel('Concepto')\n",
        "plt.ylabel('Total')\n",
        "\n",
        "# Rotating X-axis labels\n",
        "plt.xticks(rotation = 90)\n",
        "rango = (dataConteptoSortBySum.index>=4)&(dataConteptoSortBySum.index<10)\n",
        "plt.bar(dataConteptoSortBySum[rango].Concepto.tolist(), dataConteptoSortBySum[rango].Sum.tolist())\n",
        "\n",
        "plt.grid(True)\n",
        "plt.show()"
      ],
      "metadata": {
        "colab": {
          "base_uri": "https://localhost:8080/",
          "height": 399
        },
        "id": "_C7dCmc2JeoE",
        "outputId": "5e7ad014-fa3a-4a5f-8b43-c8a561793bb2"
      },
      "execution_count": 74,
      "outputs": [
        {
          "output_type": "display_data",
          "data": {
            "text/plain": [
              "<Figure size 432x288 with 1 Axes>"
            ],
            "image/png": "[encoded data removed]"
          },
          "metadata": {
            "needs_background": "light"
          }
        }
      ]
    },
    {
      "cell_type": "code",
      "source": [],
      "metadata": {
        "id": "m9XXuExI7cAF"
      },
      "execution_count": null,
      "outputs": []
    },
    {
      "cell_type": "code",
      "source": [
        "dataMY = df.copy(deep=True)\n",
        "dataMY['FechaMY'] = dataMY['FECHACANC'].apply(lambda x:x[len(x)-7:])\n",
        "\n",
        "\n",
        "dataMYTiempo = dataMY.groupby(['FechaMY']).agg({'FechaMY':'count',\n",
        "                                             'TOTALCOBRADO':['sum']})\n",
        "dataMYTiempo = dataMYTiempo.reset_index()\n",
        "#dataMYTiempo.head()\n",
        "headers = ['FechaMY', 'Count', 'Sum']\n",
        "dataMYTiempo.columns = headers\n",
        "dataMYTiempo\n",
        "#dataMYTime = pd.crosstab(dataMY.FechaMY, dataMY.dis_tipo)\n",
        "#dataMYTime.reset_index(inplace=True)\n",
        "#dataMYTime.tail()"
      ],
      "metadata": {
        "colab": {
          "base_uri": "https://localhost:8080/",
          "height": 332
        },
        "id": "fKcOf1BqCAFO",
        "outputId": "c6a4eab1-10c9-49ae-a04e-220a8103721e"
      },
      "execution_count": 109,
      "outputs": [
        {
          "output_type": "execute_result",
          "data": {
            "text/plain": [
              "   FechaMY  Count           Sum\n",
              "0  01/2022   6048  8.882067e+06\n",
              "1  02/2022  16526  2.032219e+07\n",
              "2  03/2022  16525  2.897043e+07\n",
              "3  04/2022   6854  8.400909e+06\n",
              "4  05/2022  16339  2.330270e+08\n",
              "5  06/2022   7220  7.456152e+06\n",
              "6  07/2022   7771  1.333010e+07\n",
              "7  08/2022   8975  1.311596e+07\n",
              "8  09/2022  15601  2.467865e+07"
            ],
            "text/html": [
              "\n",
              "  <div id=\"df-43d98bf6-10e2-4d0c-97f9-a924b4e537f4\">\n",
              "    <div class=\"colab-df-container\">\n",
              "      <div>\n",
              "<style scoped>\n",
              "    .dataframe tbody tr th:only-of-type {\n",
              "        vertical-align: middle;\n",
              "    }\n",
              "\n",
              "    .dataframe tbody tr th {\n",
              "        vertical-align: top;\n",
              "    }\n",
              "\n",
              "    .dataframe thead th {\n",
              "        text-align: right;\n",
              "    }\n",
              "</style>\n",
              "<table border=\"1\" class=\"dataframe\">\n",
              "  <thead>\n",
              "    <tr style=\"text-align: right;\">\n",
              "      <th></th>\n",
              "      <th>FechaMY</th>\n",
              "      <th>Count</th>\n",
              "      <th>Sum</th>\n",
              "    </tr>\n",
              "  </thead>\n",
              "  <tbody>\n",
              "    <tr>\n",
              "      <th>0</th>\n",
              "      <td>01/2022</td>\n",
              "      <td>6048</td>\n",
              "      <td>8.882067e+06</td>\n",
              "    </tr>\n",
              "    <tr>\n",
              "      <th>1</th>\n",
              "      <td>02/2022</td>\n",
              "      <td>16526</td>\n",
              "      <td>2.032219e+07</td>\n",
              "    </tr>\n",
              "    <tr>\n",
              "      <th>2</th>\n",
              "      <td>03/2022</td>\n",
              "      <td>16525</td>\n",
              "      <td>2.897043e+07</td>\n",
              "    </tr>\n",
              "    <tr>\n",
              "      <th>3</th>\n",
              "      <td>04/2022</td>\n",
              "      <td>6854</td>\n",
              "      <td>8.400909e+06</td>\n",
              "    </tr>\n",
              "    <tr>\n",
              "      <th>4</th>\n",
              "      <td>05/2022</td>\n",
              "      <td>16339</td>\n",
              "      <td>2.330270e+08</td>\n",
              "    </tr>\n",
              "    <tr>\n",
              "      <th>5</th>\n",
              "      <td>06/2022</td>\n",
              "      <td>7220</td>\n",
              "      <td>7.456152e+06</td>\n",
              "    </tr>\n",
              "    <tr>\n",
              "      <th>6</th>\n",
              "      <td>07/2022</td>\n",
              "      <td>7771</td>\n",
              "      <td>1.333010e+07</td>\n",
              "    </tr>\n",
              "    <tr>\n",
              "      <th>7</th>\n",
              "      <td>08/2022</td>\n",
              "      <td>8975</td>\n",
              "      <td>1.311596e+07</td>\n",
              "    </tr>\n",
              "    <tr>\n",
              "      <th>8</th>\n",
              "      <td>09/2022</td>\n",
              "      <td>15601</td>\n",
              "      <td>2.467865e+07</td>\n",
              "    </tr>\n",
              "  </tbody>\n",
              "</table>\n",
              "</div>\n",
              "      <button class=\"colab-df-convert\" onclick=\"convertToInteractive('df-43d98bf6-10e2-4d0c-97f9-a924b4e537f4')\"\n",
              "              title=\"Convert this dataframe to an interactive table.\"\n",
              "              style=\"display:none;\">\n",
              "        \n",
              "  <svg xmlns=\"http://www.w3.org/2000/svg\" height=\"24px\"viewBox=\"0 0 24 24\"\n",
              "       width=\"24px\">\n",
              "    <path d=\"M0 0h24v24H0V0z\" fill=\"none\"/>\n",
              "    <path d=\"M18.56 5.44l.94 2.06.94-2.06 2.06-.94-2.06-.94-.94-2.06-.94 2.06-2.06.94zm-11 1L8.5 8.5l.94-2.06 2.06-.94-2.06-.94L8.5 2.5l-.94 2.06-2.06.94zm10 10l.94 2.06.94-2.06 2.06-.94-2.06-.94-.94-2.06-.94 2.06-2.06.94z\"/><path d=\"M17.41 7.96l-1.37-1.37c-.4-.4-.92-.59-1.43-.59-.52 0-1.04.2-1.43.59L10.3 9.45l-7.72 7.72c-.78.78-.78 2.05 0 2.83L4 21.41c.39.39.9.59 1.41.59.51 0 1.02-.2 1.41-.59l7.78-7.78 2.81-2.81c.8-.78.8-2.07 0-2.86zM5.41 20L4 18.59l7.72-7.72 1.47 1.35L5.41 20z\"/>\n",
              "  </svg>\n",
              "      </button>\n",
              "      \n",
              "  <style>\n",
              "    .colab-df-container {\n",
              "      display:flex;\n",
              "      flex-wrap:wrap;\n",
              "      gap: 12px;\n",
              "    }\n",
              "\n",
              "    .colab-df-convert {\n",
              "      background-color: #E8F0FE;\n",
              "      border: none;\n",
              "      border-radius: 50%;\n",
              "      cursor: pointer;\n",
              "      display: none;\n",
              "      fill: #1967D2;\n",
              "      height: 32px;\n",
              "      padding: 0 0 0 0;\n",
              "      width: 32px;\n",
              "    }\n",
              "\n",
              "    .colab-df-convert:hover {\n",
              "      background-color: #E2EBFA;\n",
              "      box-shadow: 0px 1px 2px rgba(60, 64, 67, 0.3), 0px 1px 3px 1px rgba(60, 64, 67, 0.15);\n",
              "      fill: #174EA6;\n",
              "    }\n",
              "\n",
              "    [theme=dark] .colab-df-convert {\n",
              "      background-color: #3B4455;\n",
              "      fill: #D2E3FC;\n",
              "    }\n",
              "\n",
              "    [theme=dark] .colab-df-convert:hover {\n",
              "      background-color: #434B5C;\n",
              "      box-shadow: 0px 1px 3px 1px rgba(0, 0, 0, 0.15);\n",
              "      filter: drop-shadow(0px 1px 2px rgba(0, 0, 0, 0.3));\n",
              "      fill: #FFFFFF;\n",
              "    }\n",
              "  </style>\n",
              "\n",
              "      <script>\n",
              "        const buttonEl =\n",
              "          document.querySelector('#df-43d98bf6-10e2-4d0c-97f9-a924b4e537f4 button.colab-df-convert');\n",
              "        buttonEl.style.display =\n",
              "          google.colab.kernel.accessAllowed ? 'block' : 'none';\n",
              "\n",
              "        async function convertToInteractive(key) {\n",
              "          const element = document.querySelector('#df-43d98bf6-10e2-4d0c-97f9-a924b4e537f4');\n",
              "          const dataTable =\n",
              "            await google.colab.kernel.invokeFunction('convertToInteractive',\n",
              "                                                     [key], {});\n",
              "          if (!dataTable) return;\n",
              "\n",
              "          const docLinkHtml = 'Like what you see? Visit the ' +\n",
              "            '<a target=\"_blank\" href=https://colab.research.google.com/notebooks/data_table.ipynb>data table notebook</a>'\n",
              "            + ' to learn more about interactive tables.';\n",
              "          element.innerHTML = '';\n",
              "          dataTable['output_type'] = 'display_data';\n",
              "          await google.colab.output.renderOutput(dataTable, element);\n",
              "          const docLink = document.createElement('div');\n",
              "          docLink.innerHTML = docLinkHtml;\n",
              "          element.appendChild(docLink);\n",
              "        }\n",
              "      </script>\n",
              "    </div>\n",
              "  </div>\n",
              "  "
            ]
          },
          "metadata": {},
          "execution_count": 109
        }
      ]
    },
    {
      "cell_type": "code",
      "source": [],
      "metadata": {
        "id": "JdwswgaqGKOJ"
      },
      "execution_count": 109,
      "outputs": []
    },
    {
      "cell_type": "code",
      "source": [
        "import plotly.express as px\n",
        "\n",
        "fig = px.line(dataMYTiempo, x='FechaMY', y=dataMYTiempo.columns, \n",
        "              hover_data={'FechaMY':'|%B %d, %Y'}, template = 'plotly_dark',\n",
        "              title='PCD Inscritas \"2000 al 2021\"')\n",
        "fig.update_xaxes(\n",
        "    dtick='M1',\n",
        "    tickformat='%b\\n%Y',\n",
        "    ticklabelmode='period')\n",
        "\n",
        "fig.show()\n",
        "# F=PCD Fisica - I=PCD Intelectual - FI=PCD Física e Intelectual"
      ],
      "metadata": {
        "colab": {
          "base_uri": "https://localhost:8080/",
          "height": 542
        },
        "id": "De6bWEtHNQeG",
        "outputId": "23d1f37e-4aa9-4e2c-a612-932fa0446ca5"
      },
      "execution_count": 110,
      "outputs": [
        {
          "output_type": "display_data",
          "data": {
            "text/html": [
              "<html>\n",
              "<head><meta charset=\"utf-8\" /></head>\n",
              "<body>\n",
              "    <div>            <script src=\"https://cdnjs.cloudflare.com/ajax/libs/mathjax/2.7.5/MathJax.js?config=TeX-AMS-MML_SVG\"></script><script type=\"text/javascript\">if (window.MathJax) {MathJax.Hub.Config({SVG: {font: \"STIX-Web\"}});}</script>                <script type=\"text/javascript\">window.PlotlyConfig = {MathJaxConfig: 'local'};</script>\n",
              "        <script src=\"https://cdn.plot.ly/plotly-2.8.3.min.js\"></script>                <div id=\"9549fc25-137f-447d-b78d-21d5e2a8f2c3\" class=\"plotly-graph-div\" style=\"height:525px; width:100%;\"></div>            <script type=\"text/javascript\">                                    window.PLOTLYENV=window.PLOTLYENV || {};                                    if (document.getElementById(\"9549fc25-137f-447d-b78d-21d5e2a8f2c3\")) {                    Plotly.newPlot(                        \"9549fc25-137f-447d-b78d-21d5e2a8f2c3\",                        [{\"hovertemplate\":\"variable=Count<br>FechaMY=%{x|%B %d, %Y}<br>value=%{y}<extra></extra>\",\"legendgroup\":\"Count\",\"line\":{\"color\":\"#636efa\",\"dash\":\"solid\"},\"marker\":{\"symbol\":\"circle\"},\"mode\":\"lines\",\"name\":\"Count\",\"orientation\":\"v\",\"showlegend\":true,\"x\":[\"01/2022\",\"02/2022\",\"03/2022\",\"04/2022\",\"05/2022\",\"06/2022\",\"07/2022\",\"08/2022\",\"09/2022\"],\"xaxis\":\"x\",\"y\":[6048.0,16526.0,16525.0,6854.0,16339.0,7220.0,7771.0,8975.0,15601.0],\"yaxis\":\"y\",\"type\":\"scatter\"},{\"hovertemplate\":\"variable=Sum<br>FechaMY=%{x|%B %d, %Y}<br>value=%{y}<extra></extra>\",\"legendgroup\":\"Sum\",\"line\":{\"color\":\"#EF553B\",\"dash\":\"solid\"},\"marker\":{\"symbol\":\"circle\"},\"mode\":\"lines\",\"name\":\"Sum\",\"orientation\":\"v\",\"showlegend\":true,\"x\":[\"01/2022\",\"02/2022\",\"03/2022\",\"04/2022\",\"05/2022\",\"06/2022\",\"07/2022\",\"08/2022\",\"09/2022\"],\"xaxis\":\"x\",\"y\":[8882067.1,20322194.97,28970429.67,8400908.58,233027033.85999998,7456152.27,13330095.98,13115957.47,24678648.15],\"yaxis\":\"y\",\"type\":\"scatter\"}],                        {\"template\":{\"data\":{\"barpolar\":[{\"marker\":{\"line\":{\"color\":\"rgb(17,17,17)\",\"width\":0.5},\"pattern\":{\"fillmode\":\"overlay\",\"size\":10,\"solidity\":0.2}},\"type\":\"barpolar\"}],\"bar\":[{\"error_x\":{\"color\":\"#f2f5fa\"},\"error_y\":{\"color\":\"#f2f5fa\"},\"marker\":{\"line\":{\"color\":\"rgb(17,17,17)\",\"width\":0.5},\"pattern\":{\"fillmode\":\"overlay\",\"size\":10,\"solidity\":0.2}},\"type\":\"bar\"}],\"carpet\":[{\"aaxis\":{\"endlinecolor\":\"#A2B1C6\",\"gridcolor\":\"#506784\",\"linecolor\":\"#506784\",\"minorgridcolor\":\"#506784\",\"startlinecolor\":\"#A2B1C6\"},\"baxis\":{\"endlinecolor\":\"#A2B1C6\",\"gridcolor\":\"#506784\",\"linecolor\":\"#506784\",\"minorgridcolor\":\"#506784\",\"startlinecolor\":\"#A2B1C6\"},\"type\":\"carpet\"}],\"choropleth\":[{\"colorbar\":{\"outlinewidth\":0,\"ticks\":\"\"},\"type\":\"choropleth\"}],\"contourcarpet\":[{\"colorbar\":{\"outlinewidth\":0,\"ticks\":\"\"},\"type\":\"contourcarpet\"}],\"contour\":[{\"colorbar\":{\"outlinewidth\":0,\"ticks\":\"\"},\"colorscale\":[[0.0,\"#0d0887\"],[0.1111111111111111,\"#46039f\"],[0.2222222222222222,\"#7201a8\"],[0.3333333333333333,\"#9c179e\"],[0.4444444444444444,\"#bd3786\"],[0.5555555555555556,\"#d8576b\"],[0.6666666666666666,\"#ed7953\"],[0.7777777777777778,\"#fb9f3a\"],[0.8888888888888888,\"#fdca26\"],[1.0,\"#f0f921\"]],\"type\":\"contour\"}],\"heatmapgl\":[{\"colorbar\":{\"outlinewidth\":0,\"ticks\":\"\"},\"colorscale\":[[0.0,\"#0d0887\"],[0.1111111111111111,\"#46039f\"],[0.2222222222222222,\"#7201a8\"],[0.3333333333333333,\"#9c179e\"],[0.4444444444444444,\"#bd3786\"],[0.5555555555555556,\"#d8576b\"],[0.6666666666666666,\"#ed7953\"],[0.7777777777777778,\"#fb9f3a\"],[0.8888888888888888,\"#fdca26\"],[1.0,\"#f0f921\"]],\"type\":\"heatmapgl\"}],\"heatmap\":[{\"colorbar\":{\"outlinewidth\":0,\"ticks\":\"\"},\"colorscale\":[[0.0,\"#0d0887\"],[0.1111111111111111,\"#46039f\"],[0.2222222222222222,\"#7201a8\"],[0.3333333333333333,\"#9c179e\"],[0.4444444444444444,\"#bd3786\"],[0.5555555555555556,\"#d8576b\"],[0.6666666666666666,\"#ed7953\"],[0.7777777777777778,\"#fb9f3a\"],[0.8888888888888888,\"#fdca26\"],[1.0,\"#f0f921\"]],\"type\":\"heatmap\"}],\"histogram2dcontour\":[{\"colorbar\":{\"outlinewidth\":0,\"ticks\":\"\"},\"colorscale\":[[0.0,\"#0d0887\"],[0.1111111111111111,\"#46039f\"],[0.2222222222222222,\"#7201a8\"],[0.3333333333333333,\"#9c179e\"],[0.4444444444444444,\"#bd3786\"],[0.5555555555555556,\"#d8576b\"],[0.6666666666666666,\"#ed7953\"],[0.7777777777777778,\"#fb9f3a\"],[0.8888888888888888,\"#fdca26\"],[1.0,\"#f0f921\"]],\"type\":\"histogram2dcontour\"}],\"histogram2d\":[{\"colorbar\":{\"outlinewidth\":0,\"ticks\":\"\"},\"colorscale\":[[0.0,\"#0d0887\"],[0.1111111111111111,\"#46039f\"],[0.2222222222222222,\"#7201a8\"],[0.3333333333333333,\"#9c179e\"],[0.4444444444444444,\"#bd3786\"],[0.5555555555555556,\"#d8576b\"],[0.6666666666666666,\"#ed7953\"],[0.7777777777777778,\"#fb9f3a\"],[0.8888888888888888,\"#fdca26\"],[1.0,\"#f0f921\"]],\"type\":\"histogram2d\"}],\"histogram\":[{\"marker\":{\"pattern\":{\"fillmode\":\"overlay\",\"size\":10,\"solidity\":0.2}},\"type\":\"histogram\"}],\"mesh3d\":[{\"colorbar\":{\"outlinewidth\":0,\"ticks\":\"\"},\"type\":\"mesh3d\"}],\"parcoords\":[{\"line\":{\"colorbar\":{\"outlinewidth\":0,\"ticks\":\"\"}},\"type\":\"parcoords\"}],\"pie\":[{\"automargin\":true,\"type\":\"pie\"}],\"scatter3d\":[{\"line\":{\"colorbar\":{\"outlinewidth\":0,\"ticks\":\"\"}},\"marker\":{\"colorbar\":{\"outlinewidth\":0,\"ticks\":\"\"}},\"type\":\"scatter3d\"}],\"scattercarpet\":[{\"marker\":{\"colorbar\":{\"outlinewidth\":0,\"ticks\":\"\"}},\"type\":\"scattercarpet\"}],\"scattergeo\":[{\"marker\":{\"colorbar\":{\"outlinewidth\":0,\"ticks\":\"\"}},\"type\":\"scattergeo\"}],\"scattergl\":[{\"marker\":{\"line\":{\"color\":\"#283442\"}},\"type\":\"scattergl\"}],\"scattermapbox\":[{\"marker\":{\"colorbar\":{\"outlinewidth\":0,\"ticks\":\"\"}},\"type\":\"scattermapbox\"}],\"scatterpolargl\":[{\"marker\":{\"colorbar\":{\"outlinewidth\":0,\"ticks\":\"\"}},\"type\":\"scatterpolargl\"}],\"scatterpolar\":[{\"marker\":{\"colorbar\":{\"outlinewidth\":0,\"ticks\":\"\"}},\"type\":\"scatterpolar\"}],\"scatter\":[{\"marker\":{\"line\":{\"color\":\"#283442\"}},\"type\":\"scatter\"}],\"scatterternary\":[{\"marker\":{\"colorbar\":{\"outlinewidth\":0,\"ticks\":\"\"}},\"type\":\"scatterternary\"}],\"surface\":[{\"colorbar\":{\"outlinewidth\":0,\"ticks\":\"\"},\"colorscale\":[[0.0,\"#0d0887\"],[0.1111111111111111,\"#46039f\"],[0.2222222222222222,\"#7201a8\"],[0.3333333333333333,\"#9c179e\"],[0.4444444444444444,\"#bd3786\"],[0.5555555555555556,\"#d8576b\"],[0.6666666666666666,\"#ed7953\"],[0.7777777777777778,\"#fb9f3a\"],[0.8888888888888888,\"#fdca26\"],[1.0,\"#f0f921\"]],\"type\":\"surface\"}],\"table\":[{\"cells\":{\"fill\":{\"color\":\"#506784\"},\"line\":{\"color\":\"rgb(17,17,17)\"}},\"header\":{\"fill\":{\"color\":\"#2a3f5f\"},\"line\":{\"color\":\"rgb(17,17,17)\"}},\"type\":\"table\"}]},\"layout\":{\"annotationdefaults\":{\"arrowcolor\":\"#f2f5fa\",\"arrowhead\":0,\"arrowwidth\":1},\"autotypenumbers\":\"strict\",\"coloraxis\":{\"colorbar\":{\"outlinewidth\":0,\"ticks\":\"\"}},\"colorscale\":{\"diverging\":[[0,\"#8e0152\"],[0.1,\"#c51b7d\"],[0.2,\"#de77ae\"],[0.3,\"#f1b6da\"],[0.4,\"#fde0ef\"],[0.5,\"#f7f7f7\"],[0.6,\"#e6f5d0\"],[0.7,\"#b8e186\"],[0.8,\"#7fbc41\"],[0.9,\"#4d9221\"],[1,\"#276419\"]],\"sequential\":[[0.0,\"#0d0887\"],[0.1111111111111111,\"#46039f\"],[0.2222222222222222,\"#7201a8\"],[0.3333333333333333,\"#9c179e\"],[0.4444444444444444,\"#bd3786\"],[0.5555555555555556,\"#d8576b\"],[0.6666666666666666,\"#ed7953\"],[0.7777777777777778,\"#fb9f3a\"],[0.8888888888888888,\"#fdca26\"],[1.0,\"#f0f921\"]],\"sequentialminus\":[[0.0,\"#0d0887\"],[0.1111111111111111,\"#46039f\"],[0.2222222222222222,\"#7201a8\"],[0.3333333333333333,\"#9c179e\"],[0.4444444444444444,\"#bd3786\"],[0.5555555555555556,\"#d8576b\"],[0.6666666666666666,\"#ed7953\"],[0.7777777777777778,\"#fb9f3a\"],[0.8888888888888888,\"#fdca26\"],[1.0,\"#f0f921\"]]},\"colorway\":[\"#636efa\",\"#EF553B\",\"#00cc96\",\"#ab63fa\",\"#FFA15A\",\"#19d3f3\",\"#FF6692\",\"#B6E880\",\"#FF97FF\",\"#FECB52\"],\"font\":{\"color\":\"#f2f5fa\"},\"geo\":{\"bgcolor\":\"rgb(17,17,17)\",\"lakecolor\":\"rgb(17,17,17)\",\"landcolor\":\"rgb(17,17,17)\",\"showlakes\":true,\"showland\":true,\"subunitcolor\":\"#506784\"},\"hoverlabel\":{\"align\":\"left\"},\"hovermode\":\"closest\",\"mapbox\":{\"style\":\"dark\"},\"paper_bgcolor\":\"rgb(17,17,17)\",\"plot_bgcolor\":\"rgb(17,17,17)\",\"polar\":{\"angularaxis\":{\"gridcolor\":\"#506784\",\"linecolor\":\"#506784\",\"ticks\":\"\"},\"bgcolor\":\"rgb(17,17,17)\",\"radialaxis\":{\"gridcolor\":\"#506784\",\"linecolor\":\"#506784\",\"ticks\":\"\"}},\"scene\":{\"xaxis\":{\"backgroundcolor\":\"rgb(17,17,17)\",\"gridcolor\":\"#506784\",\"gridwidth\":2,\"linecolor\":\"#506784\",\"showbackground\":true,\"ticks\":\"\",\"zerolinecolor\":\"#C8D4E3\"},\"yaxis\":{\"backgroundcolor\":\"rgb(17,17,17)\",\"gridcolor\":\"#506784\",\"gridwidth\":2,\"linecolor\":\"#506784\",\"showbackground\":true,\"ticks\":\"\",\"zerolinecolor\":\"#C8D4E3\"},\"zaxis\":{\"backgroundcolor\":\"rgb(17,17,17)\",\"gridcolor\":\"#506784\",\"gridwidth\":2,\"linecolor\":\"#506784\",\"showbackground\":true,\"ticks\":\"\",\"zerolinecolor\":\"#C8D4E3\"}},\"shapedefaults\":{\"line\":{\"color\":\"#f2f5fa\"}},\"sliderdefaults\":{\"bgcolor\":\"#C8D4E3\",\"bordercolor\":\"rgb(17,17,17)\",\"borderwidth\":1,\"tickwidth\":0},\"ternary\":{\"aaxis\":{\"gridcolor\":\"#506784\",\"linecolor\":\"#506784\",\"ticks\":\"\"},\"baxis\":{\"gridcolor\":\"#506784\",\"linecolor\":\"#506784\",\"ticks\":\"\"},\"bgcolor\":\"rgb(17,17,17)\",\"caxis\":{\"gridcolor\":\"#506784\",\"linecolor\":\"#506784\",\"ticks\":\"\"}},\"title\":{\"x\":0.05},\"updatemenudefaults\":{\"bgcolor\":\"#506784\",\"borderwidth\":0},\"xaxis\":{\"automargin\":true,\"gridcolor\":\"#283442\",\"linecolor\":\"#506784\",\"ticks\":\"\",\"title\":{\"standoff\":15},\"zerolinecolor\":\"#283442\",\"zerolinewidth\":2},\"yaxis\":{\"automargin\":true,\"gridcolor\":\"#283442\",\"linecolor\":\"#506784\",\"ticks\":\"\",\"title\":{\"standoff\":15},\"zerolinecolor\":\"#283442\",\"zerolinewidth\":2}}},\"xaxis\":{\"anchor\":\"y\",\"domain\":[0.0,1.0],\"title\":{\"text\":\"FechaMY\"},\"dtick\":\"M1\",\"tickformat\":\"%b\\n%Y\",\"ticklabelmode\":\"period\"},\"yaxis\":{\"anchor\":\"x\",\"domain\":[0.0,1.0],\"title\":{\"text\":\"value\"}},\"legend\":{\"title\":{\"text\":\"variable\"},\"tracegroupgap\":0},\"title\":{\"text\":\"PCD Inscritas \\\"2000 al 2021\\\"\"}},                        {\"responsive\": true}                    ).then(function(){\n",
              "                            \n",
              "var gd = document.getElementById('9549fc25-137f-447d-b78d-21d5e2a8f2c3');\n",
              "var x = new MutationObserver(function (mutations, observer) {{\n",
              "        var display = window.getComputedStyle(gd).display;\n",
              "        if (!display || display === 'none') {{\n",
              "            console.log([gd, 'removed!']);\n",
              "            Plotly.purge(gd);\n",
              "            observer.disconnect();\n",
              "        }}\n",
              "}});\n",
              "\n",
              "// Listen for the removal of the full notebook cells\n",
              "var notebookContainer = gd.closest('#notebook-container');\n",
              "if (notebookContainer) {{\n",
              "    x.observe(notebookContainer, {childList: true});\n",
              "}}\n",
              "\n",
              "// Listen for the clearing of the current output cell\n",
              "var outputEl = gd.closest('.output');\n",
              "if (outputEl) {{\n",
              "    x.observe(outputEl, {childList: true});\n",
              "}}\n",
              "\n",
              "                        })                };                            </script>        </div>\n",
              "</body>\n",
              "</html>"
            ]
          },
          "metadata": {}
        }
      ]
    },
    {
      "cell_type": "code",
      "source": [],
      "metadata": {
        "id": "9NPbTN9iGKTR"
      },
      "execution_count": null,
      "outputs": []
    },
    {
      "cell_type": "code",
      "source": [
        "#dataMY[col_interes]\n",
        "dataMY[['FechaMY', 'FECHACANC']]"
      ],
      "metadata": {
        "colab": {
          "base_uri": "https://localhost:8080/",
          "height": 424
        },
        "id": "4aVFXVSgAmKL",
        "outputId": "ffb9aecb-27c0-43a5-bb39-de4455389e0c"
      },
      "execution_count": 104,
      "outputs": [
        {
          "output_type": "execute_result",
          "data": {
            "text/plain": [
              "        FechaMY   FECHACANC\n",
              "0       01/2022   3/01/2022\n",
              "1       01/2022   3/01/2022\n",
              "2       01/2022   3/01/2022\n",
              "3       01/2022   3/01/2022\n",
              "4       01/2022   4/01/2022\n",
              "...         ...         ...\n",
              "101854  09/2022  30/09/2022\n",
              "101855  09/2022  30/09/2022\n",
              "101856  09/2022  30/09/2022\n",
              "101857  09/2022  30/09/2022\n",
              "101858  09/2022  30/09/2022\n",
              "\n",
              "[101859 rows x 2 columns]"
            ],
            "text/html": [
              "\n",
              "  <div id=\"df-cbbf9913-d128-4721-b502-3d60da4c15bb\">\n",
              "    <div class=\"colab-df-container\">\n",
              "      <div>\n",
              "<style scoped>\n",
              "    .dataframe tbody tr th:only-of-type {\n",
              "        vertical-align: middle;\n",
              "    }\n",
              "\n",
              "    .dataframe tbody tr th {\n",
              "        vertical-align: top;\n",
              "    }\n",
              "\n",
              "    .dataframe thead th {\n",
              "        text-align: right;\n",
              "    }\n",
              "</style>\n",
              "<table border=\"1\" class=\"dataframe\">\n",
              "  <thead>\n",
              "    <tr style=\"text-align: right;\">\n",
              "      <th></th>\n",
              "      <th>FechaMY</th>\n",
              "      <th>FECHACANC</th>\n",
              "    </tr>\n",
              "  </thead>\n",
              "  <tbody>\n",
              "    <tr>\n",
              "      <th>0</th>\n",
              "      <td>01/2022</td>\n",
              "      <td>3/01/2022</td>\n",
              "    </tr>\n",
              "    <tr>\n",
              "      <th>1</th>\n",
              "      <td>01/2022</td>\n",
              "      <td>3/01/2022</td>\n",
              "    </tr>\n",
              "    <tr>\n",
              "      <th>2</th>\n",
              "      <td>01/2022</td>\n",
              "      <td>3/01/2022</td>\n",
              "    </tr>\n",
              "    <tr>\n",
              "      <th>3</th>\n",
              "      <td>01/2022</td>\n",
              "      <td>3/01/2022</td>\n",
              "    </tr>\n",
              "    <tr>\n",
              "      <th>4</th>\n",
              "      <td>01/2022</td>\n",
              "      <td>4/01/2022</td>\n",
              "    </tr>\n",
              "    <tr>\n",
              "      <th>...</th>\n",
              "      <td>...</td>\n",
              "      <td>...</td>\n",
              "    </tr>\n",
              "    <tr>\n",
              "      <th>101854</th>\n",
              "      <td>09/2022</td>\n",
              "      <td>30/09/2022</td>\n",
              "    </tr>\n",
              "    <tr>\n",
              "      <th>101855</th>\n",
              "      <td>09/2022</td>\n",
              "      <td>30/09/2022</td>\n",
              "    </tr>\n",
              "    <tr>\n",
              "      <th>101856</th>\n",
              "      <td>09/2022</td>\n",
              "      <td>30/09/2022</td>\n",
              "    </tr>\n",
              "    <tr>\n",
              "      <th>101857</th>\n",
              "      <td>09/2022</td>\n",
              "      <td>30/09/2022</td>\n",
              "    </tr>\n",
              "    <tr>\n",
              "      <th>101858</th>\n",
              "      <td>09/2022</td>\n",
              "      <td>30/09/2022</td>\n",
              "    </tr>\n",
              "  </tbody>\n",
              "</table>\n",
              "<p>101859 rows × 2 columns</p>\n",
              "</div>\n",
              "      <button class=\"colab-df-convert\" onclick=\"convertToInteractive('df-cbbf9913-d128-4721-b502-3d60da4c15bb')\"\n",
              "              title=\"Convert this dataframe to an interactive table.\"\n",
              "              style=\"display:none;\">\n",
              "        \n",
              "  <svg xmlns=\"http://www.w3.org/2000/svg\" height=\"24px\"viewBox=\"0 0 24 24\"\n",
              "       width=\"24px\">\n",
              "    <path d=\"M0 0h24v24H0V0z\" fill=\"none\"/>\n",
              "    <path d=\"M18.56 5.44l.94 2.06.94-2.06 2.06-.94-2.06-.94-.94-2.06-.94 2.06-2.06.94zm-11 1L8.5 8.5l.94-2.06 2.06-.94-2.06-.94L8.5 2.5l-.94 2.06-2.06.94zm10 10l.94 2.06.94-2.06 2.06-.94-2.06-.94-.94-2.06-.94 2.06-2.06.94z\"/><path d=\"M17.41 7.96l-1.37-1.37c-.4-.4-.92-.59-1.43-.59-.52 0-1.04.2-1.43.59L10.3 9.45l-7.72 7.72c-.78.78-.78 2.05 0 2.83L4 21.41c.39.39.9.59 1.41.59.51 0 1.02-.2 1.41-.59l7.78-7.78 2.81-2.81c.8-.78.8-2.07 0-2.86zM5.41 20L4 18.59l7.72-7.72 1.47 1.35L5.41 20z\"/>\n",
              "  </svg>\n",
              "      </button>\n",
              "      \n",
              "  <style>\n",
              "    .colab-df-container {\n",
              "      display:flex;\n",
              "      flex-wrap:wrap;\n",
              "      gap: 12px;\n",
              "    }\n",
              "\n",
              "    .colab-df-convert {\n",
              "      background-color: #E8F0FE;\n",
              "      border: none;\n",
              "      border-radius: 50%;\n",
              "      cursor: pointer;\n",
              "      display: none;\n",
              "      fill: #1967D2;\n",
              "      height: 32px;\n",
              "      padding: 0 0 0 0;\n",
              "      width: 32px;\n",
              "    }\n",
              "\n",
              "    .colab-df-convert:hover {\n",
              "      background-color: #E2EBFA;\n",
              "      box-shadow: 0px 1px 2px rgba(60, 64, 67, 0.3), 0px 1px 3px 1px rgba(60, 64, 67, 0.15);\n",
              "      fill: #174EA6;\n",
              "    }\n",
              "\n",
              "    [theme=dark] .colab-df-convert {\n",
              "      background-color: #3B4455;\n",
              "      fill: #D2E3FC;\n",
              "    }\n",
              "\n",
              "    [theme=dark] .colab-df-convert:hover {\n",
              "      background-color: #434B5C;\n",
              "      box-shadow: 0px 1px 3px 1px rgba(0, 0, 0, 0.15);\n",
              "      filter: drop-shadow(0px 1px 2px rgba(0, 0, 0, 0.3));\n",
              "      fill: #FFFFFF;\n",
              "    }\n",
              "  </style>\n",
              "\n",
              "      <script>\n",
              "        const buttonEl =\n",
              "          document.querySelector('#df-cbbf9913-d128-4721-b502-3d60da4c15bb button.colab-df-convert');\n",
              "        buttonEl.style.display =\n",
              "          google.colab.kernel.accessAllowed ? 'block' : 'none';\n",
              "\n",
              "        async function convertToInteractive(key) {\n",
              "          const element = document.querySelector('#df-cbbf9913-d128-4721-b502-3d60da4c15bb');\n",
              "          const dataTable =\n",
              "            await google.colab.kernel.invokeFunction('convertToInteractive',\n",
              "                                                     [key], {});\n",
              "          if (!dataTable) return;\n",
              "\n",
              "          const docLinkHtml = 'Like what you see? Visit the ' +\n",
              "            '<a target=\"_blank\" href=https://colab.research.google.com/notebooks/data_table.ipynb>data table notebook</a>'\n",
              "            + ' to learn more about interactive tables.';\n",
              "          element.innerHTML = '';\n",
              "          dataTable['output_type'] = 'display_data';\n",
              "          await google.colab.output.renderOutput(dataTable, element);\n",
              "          const docLink = document.createElement('div');\n",
              "          docLink.innerHTML = docLinkHtml;\n",
              "          element.appendChild(docLink);\n",
              "        }\n",
              "      </script>\n",
              "    </div>\n",
              "  </div>\n",
              "  "
            ]
          },
          "metadata": {},
          "execution_count": 104
        }
      ]
    },
    {
      "cell_type": "code",
      "source": [],
      "metadata": {
        "id": "pXY7ahn5AmM5"
      },
      "execution_count": null,
      "outputs": []
    },
    {
      "cell_type": "code",
      "source": [],
      "metadata": {
        "id": "tPlwn8L1AmO-"
      },
      "execution_count": null,
      "outputs": []
    },
    {
      "cell_type": "code",
      "source": [],
      "metadata": {
        "id": "Ddy5bUAcAmRA"
      },
      "execution_count": null,
      "outputs": []
    },
    {
      "cell_type": "code",
      "source": [],
      "metadata": {
        "id": "zlRMu4kWAmTR"
      },
      "execution_count": null,
      "outputs": []
    },
    {
      "cell_type": "code",
      "source": [],
      "metadata": {
        "id": "98OBKsTgAmVm"
      },
      "execution_count": null,
      "outputs": []
    },
    {
      "cell_type": "markdown",
      "source": [
        "## Evaluando los canales de pago del Top 5 de Recaudación"
      ],
      "metadata": {
        "id": "oAOW0yuZ8EyR"
      }
    },
    {
      "cell_type": "code",
      "source": [
        "condicion = \"(CONCEPTO == 'LIMPIEZA PÚBLICA') | (CONCEPTO == 'SERENAZGO') | (CONCEPTO == 'PARQUES Y JARDINES') | (CONCEPTO == 'IMPUESTO PREDIAL') | (CONCEPTO == 'MULTA TRIBUTARIA')\"\n",
        "dataTop5Concepto = df.query(condicion)\n",
        "dataTop5Concepto[col_interes].head()"
      ],
      "metadata": {
        "colab": {
          "base_uri": "https://localhost:8080/",
          "height": 206
        },
        "id": "Oi-t5nff7cCH",
        "outputId": "eae16909-7518-445d-df72-7c4a68d9e82d"
      },
      "execution_count": 82,
      "outputs": [
        {
          "output_type": "execute_result",
          "data": {
            "text/plain": [
              "   CODPERSONA  TOTALCOBRADO  RECIBIDO  FECHACANC FECHACANC.1  TIPOPAGO  \\\n",
              "0        4066        146.05   146.05   3/01/2022   lunes0103       BCP   \n",
              "1        4066         44.36    44.36   3/01/2022   lunes0103       BCP   \n",
              "2        4066         44.36    44.36   3/01/2022   lunes0103       BCP   \n",
              "3        4066         44.36    44.36   3/01/2022   lunes0103       BCP   \n",
              "4       10321        518.28   600.00   4/01/2022  martes0104  EFECTIVO   \n",
              "\n",
              "   CODTRIBUTO            CONCEPTO  \n",
              "0         1.0    IMPUESTO PREDIAL  \n",
              "1         1.0    LIMPIEZA PÚBLICA  \n",
              "2         3.0  PARQUES Y JARDINES  \n",
              "3         4.0           SERENAZGO  \n",
              "4         1.0    IMPUESTO PREDIAL  "
            ],
            "text/html": [
              "\n",
              "  <div id=\"df-5943e88f-2ecc-4ade-8da3-7ba282dc0bc2\">\n",
              "    <div class=\"colab-df-container\">\n",
              "      <div>\n",
              "<style scoped>\n",
              "    .dataframe tbody tr th:only-of-type {\n",
              "        vertical-align: middle;\n",
              "    }\n",
              "\n",
              "    .dataframe tbody tr th {\n",
              "        vertical-align: top;\n",
              "    }\n",
              "\n",
              "    .dataframe thead th {\n",
              "        text-align: right;\n",
              "    }\n",
              "</style>\n",
              "<table border=\"1\" class=\"dataframe\">\n",
              "  <thead>\n",
              "    <tr style=\"text-align: right;\">\n",
              "      <th></th>\n",
              "      <th>CODPERSONA</th>\n",
              "      <th>TOTALCOBRADO</th>\n",
              "      <th>RECIBIDO</th>\n",
              "      <th>FECHACANC</th>\n",
              "      <th>FECHACANC.1</th>\n",
              "      <th>TIPOPAGO</th>\n",
              "      <th>CODTRIBUTO</th>\n",
              "      <th>CONCEPTO</th>\n",
              "    </tr>\n",
              "  </thead>\n",
              "  <tbody>\n",
              "    <tr>\n",
              "      <th>0</th>\n",
              "      <td>4066</td>\n",
              "      <td>146.05</td>\n",
              "      <td>146.05</td>\n",
              "      <td>3/01/2022</td>\n",
              "      <td>lunes0103</td>\n",
              "      <td>BCP</td>\n",
              "      <td>1.0</td>\n",
              "      <td>IMPUESTO PREDIAL</td>\n",
              "    </tr>\n",
              "    <tr>\n",
              "      <th>1</th>\n",
              "      <td>4066</td>\n",
              "      <td>44.36</td>\n",
              "      <td>44.36</td>\n",
              "      <td>3/01/2022</td>\n",
              "      <td>lunes0103</td>\n",
              "      <td>BCP</td>\n",
              "      <td>1.0</td>\n",
              "      <td>LIMPIEZA PÚBLICA</td>\n",
              "    </tr>\n",
              "    <tr>\n",
              "      <th>2</th>\n",
              "      <td>4066</td>\n",
              "      <td>44.36</td>\n",
              "      <td>44.36</td>\n",
              "      <td>3/01/2022</td>\n",
              "      <td>lunes0103</td>\n",
              "      <td>BCP</td>\n",
              "      <td>3.0</td>\n",
              "      <td>PARQUES Y JARDINES</td>\n",
              "    </tr>\n",
              "    <tr>\n",
              "      <th>3</th>\n",
              "      <td>4066</td>\n",
              "      <td>44.36</td>\n",
              "      <td>44.36</td>\n",
              "      <td>3/01/2022</td>\n",
              "      <td>lunes0103</td>\n",
              "      <td>BCP</td>\n",
              "      <td>4.0</td>\n",
              "      <td>SERENAZGO</td>\n",
              "    </tr>\n",
              "    <tr>\n",
              "      <th>4</th>\n",
              "      <td>10321</td>\n",
              "      <td>518.28</td>\n",
              "      <td>600.00</td>\n",
              "      <td>4/01/2022</td>\n",
              "      <td>martes0104</td>\n",
              "      <td>EFECTIVO</td>\n",
              "      <td>1.0</td>\n",
              "      <td>IMPUESTO PREDIAL</td>\n",
              "    </tr>\n",
              "  </tbody>\n",
              "</table>\n",
              "</div>\n",
              "      <button class=\"colab-df-convert\" onclick=\"convertToInteractive('df-5943e88f-2ecc-4ade-8da3-7ba282dc0bc2')\"\n",
              "              title=\"Convert this dataframe to an interactive table.\"\n",
              "              style=\"display:none;\">\n",
              "        \n",
              "  <svg xmlns=\"http://www.w3.org/2000/svg\" height=\"24px\"viewBox=\"0 0 24 24\"\n",
              "       width=\"24px\">\n",
              "    <path d=\"M0 0h24v24H0V0z\" fill=\"none\"/>\n",
              "    <path d=\"M18.56 5.44l.94 2.06.94-2.06 2.06-.94-2.06-.94-.94-2.06-.94 2.06-2.06.94zm-11 1L8.5 8.5l.94-2.06 2.06-.94-2.06-.94L8.5 2.5l-.94 2.06-2.06.94zm10 10l.94 2.06.94-2.06 2.06-.94-2.06-.94-.94-2.06-.94 2.06-2.06.94z\"/><path d=\"M17.41 7.96l-1.37-1.37c-.4-.4-.92-.59-1.43-.59-.52 0-1.04.2-1.43.59L10.3 9.45l-7.72 7.72c-.78.78-.78 2.05 0 2.83L4 21.41c.39.39.9.59 1.41.59.51 0 1.02-.2 1.41-.59l7.78-7.78 2.81-2.81c.8-.78.8-2.07 0-2.86zM5.41 20L4 18.59l7.72-7.72 1.47 1.35L5.41 20z\"/>\n",
              "  </svg>\n",
              "      </button>\n",
              "      \n",
              "  <style>\n",
              "    .colab-df-container {\n",
              "      display:flex;\n",
              "      flex-wrap:wrap;\n",
              "      gap: 12px;\n",
              "    }\n",
              "\n",
              "    .colab-df-convert {\n",
              "      background-color: #E8F0FE;\n",
              "      border: none;\n",
              "      border-radius: 50%;\n",
              "      cursor: pointer;\n",
              "      display: none;\n",
              "      fill: #1967D2;\n",
              "      height: 32px;\n",
              "      padding: 0 0 0 0;\n",
              "      width: 32px;\n",
              "    }\n",
              "\n",
              "    .colab-df-convert:hover {\n",
              "      background-color: #E2EBFA;\n",
              "      box-shadow: 0px 1px 2px rgba(60, 64, 67, 0.3), 0px 1px 3px 1px rgba(60, 64, 67, 0.15);\n",
              "      fill: #174EA6;\n",
              "    }\n",
              "\n",
              "    [theme=dark] .colab-df-convert {\n",
              "      background-color: #3B4455;\n",
              "      fill: #D2E3FC;\n",
              "    }\n",
              "\n",
              "    [theme=dark] .colab-df-convert:hover {\n",
              "      background-color: #434B5C;\n",
              "      box-shadow: 0px 1px 3px 1px rgba(0, 0, 0, 0.15);\n",
              "      filter: drop-shadow(0px 1px 2px rgba(0, 0, 0, 0.3));\n",
              "      fill: #FFFFFF;\n",
              "    }\n",
              "  </style>\n",
              "\n",
              "      <script>\n",
              "        const buttonEl =\n",
              "          document.querySelector('#df-5943e88f-2ecc-4ade-8da3-7ba282dc0bc2 button.colab-df-convert');\n",
              "        buttonEl.style.display =\n",
              "          google.colab.kernel.accessAllowed ? 'block' : 'none';\n",
              "\n",
              "        async function convertToInteractive(key) {\n",
              "          const element = document.querySelector('#df-5943e88f-2ecc-4ade-8da3-7ba282dc0bc2');\n",
              "          const dataTable =\n",
              "            await google.colab.kernel.invokeFunction('convertToInteractive',\n",
              "                                                     [key], {});\n",
              "          if (!dataTable) return;\n",
              "\n",
              "          const docLinkHtml = 'Like what you see? Visit the ' +\n",
              "            '<a target=\"_blank\" href=https://colab.research.google.com/notebooks/data_table.ipynb>data table notebook</a>'\n",
              "            + ' to learn more about interactive tables.';\n",
              "          element.innerHTML = '';\n",
              "          dataTable['output_type'] = 'display_data';\n",
              "          await google.colab.output.renderOutput(dataTable, element);\n",
              "          const docLink = document.createElement('div');\n",
              "          docLink.innerHTML = docLinkHtml;\n",
              "          element.appendChild(docLink);\n",
              "        }\n",
              "      </script>\n",
              "    </div>\n",
              "  </div>\n",
              "  "
            ]
          },
          "metadata": {},
          "execution_count": 82
        }
      ]
    },
    {
      "cell_type": "code",
      "source": [
        "from tables import index\n",
        "\n",
        "dataTipoPagoTop5 = dataTop5Concepto.groupby(['TIPOPAGO']).agg({'TIPOPAGO':'count', 'TOTALCOBRADO':['sum', 'max']})\n",
        "dataTipoPagoTop5 = dataTipoPagoTop5.reset_index()\n",
        "\n",
        "headers = ['TipoPago', 'Count', 'Sum', 'Max']\n",
        "dataTipoPagoTop5.columns = headers\n",
        "\n",
        "dataTipoPagoTop5SortBySum = dataTipoPagoTop5.sort_values(by=['Sum'], ascending=False).reset_index().drop(['index'], axis=1)\n",
        "dataTipoPagoTop5SortBySum"
      ],
      "metadata": {
        "colab": {
          "base_uri": "https://localhost:8080/",
          "height": 206
        },
        "id": "yEq84zbO7cEd",
        "outputId": "39d0bba5-7803-48d3-e078-30f3eca143f3"
      },
      "execution_count": 83,
      "outputs": [
        {
          "output_type": "execute_result",
          "data": {
            "text/plain": [
              "   TipoPago  Count           Sum        Max\n",
              "0       BCP  32769  2.867373e+08  437071.76\n",
              "1  EFECTIVO  40551  3.395168e+07   30044.15\n",
              "2      VISA  21249  2.973500e+07   28165.71\n",
              "3   OPENPAY   1064  3.158182e+06    8725.87\n",
              "4    CHEQUE    552  2.933039e+06   24521.00"
            ],
            "text/html": [
              "\n",
              "  <div id=\"df-04ffb4e6-d6f1-421c-b31e-7bde92b8e08f\">\n",
              "    <div class=\"colab-df-container\">\n",
              "      <div>\n",
              "<style scoped>\n",
              "    .dataframe tbody tr th:only-of-type {\n",
              "        vertical-align: middle;\n",
              "    }\n",
              "\n",
              "    .dataframe tbody tr th {\n",
              "        vertical-align: top;\n",
              "    }\n",
              "\n",
              "    .dataframe thead th {\n",
              "        text-align: right;\n",
              "    }\n",
              "</style>\n",
              "<table border=\"1\" class=\"dataframe\">\n",
              "  <thead>\n",
              "    <tr style=\"text-align: right;\">\n",
              "      <th></th>\n",
              "      <th>TipoPago</th>\n",
              "      <th>Count</th>\n",
              "      <th>Sum</th>\n",
              "      <th>Max</th>\n",
              "    </tr>\n",
              "  </thead>\n",
              "  <tbody>\n",
              "    <tr>\n",
              "      <th>0</th>\n",
              "      <td>BCP</td>\n",
              "      <td>32769</td>\n",
              "      <td>2.867373e+08</td>\n",
              "      <td>437071.76</td>\n",
              "    </tr>\n",
              "    <tr>\n",
              "      <th>1</th>\n",
              "      <td>EFECTIVO</td>\n",
              "      <td>40551</td>\n",
              "      <td>3.395168e+07</td>\n",
              "      <td>30044.15</td>\n",
              "    </tr>\n",
              "    <tr>\n",
              "      <th>2</th>\n",
              "      <td>VISA</td>\n",
              "      <td>21249</td>\n",
              "      <td>2.973500e+07</td>\n",
              "      <td>28165.71</td>\n",
              "    </tr>\n",
              "    <tr>\n",
              "      <th>3</th>\n",
              "      <td>OPENPAY</td>\n",
              "      <td>1064</td>\n",
              "      <td>3.158182e+06</td>\n",
              "      <td>8725.87</td>\n",
              "    </tr>\n",
              "    <tr>\n",
              "      <th>4</th>\n",
              "      <td>CHEQUE</td>\n",
              "      <td>552</td>\n",
              "      <td>2.933039e+06</td>\n",
              "      <td>24521.00</td>\n",
              "    </tr>\n",
              "  </tbody>\n",
              "</table>\n",
              "</div>\n",
              "      <button class=\"colab-df-convert\" onclick=\"convertToInteractive('df-04ffb4e6-d6f1-421c-b31e-7bde92b8e08f')\"\n",
              "              title=\"Convert this dataframe to an interactive table.\"\n",
              "              style=\"display:none;\">\n",
              "        \n",
              "  <svg xmlns=\"http://www.w3.org/2000/svg\" height=\"24px\"viewBox=\"0 0 24 24\"\n",
              "       width=\"24px\">\n",
              "    <path d=\"M0 0h24v24H0V0z\" fill=\"none\"/>\n",
              "    <path d=\"M18.56 5.44l.94 2.06.94-2.06 2.06-.94-2.06-.94-.94-2.06-.94 2.06-2.06.94zm-11 1L8.5 8.5l.94-2.06 2.06-.94-2.06-.94L8.5 2.5l-.94 2.06-2.06.94zm10 10l.94 2.06.94-2.06 2.06-.94-2.06-.94-.94-2.06-.94 2.06-2.06.94z\"/><path d=\"M17.41 7.96l-1.37-1.37c-.4-.4-.92-.59-1.43-.59-.52 0-1.04.2-1.43.59L10.3 9.45l-7.72 7.72c-.78.78-.78 2.05 0 2.83L4 21.41c.39.39.9.59 1.41.59.51 0 1.02-.2 1.41-.59l7.78-7.78 2.81-2.81c.8-.78.8-2.07 0-2.86zM5.41 20L4 18.59l7.72-7.72 1.47 1.35L5.41 20z\"/>\n",
              "  </svg>\n",
              "      </button>\n",
              "      \n",
              "  <style>\n",
              "    .colab-df-container {\n",
              "      display:flex;\n",
              "      flex-wrap:wrap;\n",
              "      gap: 12px;\n",
              "    }\n",
              "\n",
              "    .colab-df-convert {\n",
              "      background-color: #E8F0FE;\n",
              "      border: none;\n",
              "      border-radius: 50%;\n",
              "      cursor: pointer;\n",
              "      display: none;\n",
              "      fill: #1967D2;\n",
              "      height: 32px;\n",
              "      padding: 0 0 0 0;\n",
              "      width: 32px;\n",
              "    }\n",
              "\n",
              "    .colab-df-convert:hover {\n",
              "      background-color: #E2EBFA;\n",
              "      box-shadow: 0px 1px 2px rgba(60, 64, 67, 0.3), 0px 1px 3px 1px rgba(60, 64, 67, 0.15);\n",
              "      fill: #174EA6;\n",
              "    }\n",
              "\n",
              "    [theme=dark] .colab-df-convert {\n",
              "      background-color: #3B4455;\n",
              "      fill: #D2E3FC;\n",
              "    }\n",
              "\n",
              "    [theme=dark] .colab-df-convert:hover {\n",
              "      background-color: #434B5C;\n",
              "      box-shadow: 0px 1px 3px 1px rgba(0, 0, 0, 0.15);\n",
              "      filter: drop-shadow(0px 1px 2px rgba(0, 0, 0, 0.3));\n",
              "      fill: #FFFFFF;\n",
              "    }\n",
              "  </style>\n",
              "\n",
              "      <script>\n",
              "        const buttonEl =\n",
              "          document.querySelector('#df-04ffb4e6-d6f1-421c-b31e-7bde92b8e08f button.colab-df-convert');\n",
              "        buttonEl.style.display =\n",
              "          google.colab.kernel.accessAllowed ? 'block' : 'none';\n",
              "\n",
              "        async function convertToInteractive(key) {\n",
              "          const element = document.querySelector('#df-04ffb4e6-d6f1-421c-b31e-7bde92b8e08f');\n",
              "          const dataTable =\n",
              "            await google.colab.kernel.invokeFunction('convertToInteractive',\n",
              "                                                     [key], {});\n",
              "          if (!dataTable) return;\n",
              "\n",
              "          const docLinkHtml = 'Like what you see? Visit the ' +\n",
              "            '<a target=\"_blank\" href=https://colab.research.google.com/notebooks/data_table.ipynb>data table notebook</a>'\n",
              "            + ' to learn more about interactive tables.';\n",
              "          element.innerHTML = '';\n",
              "          dataTable['output_type'] = 'display_data';\n",
              "          await google.colab.output.renderOutput(dataTable, element);\n",
              "          const docLink = document.createElement('div');\n",
              "          docLink.innerHTML = docLinkHtml;\n",
              "          element.appendChild(docLink);\n",
              "        }\n",
              "      </script>\n",
              "    </div>\n",
              "  </div>\n",
              "  "
            ]
          },
          "metadata": {},
          "execution_count": 83
        }
      ]
    },
    {
      "cell_type": "code",
      "source": [
        "import matplotlib.pyplot as plt\n",
        "\n",
        "x = dataTipoPagoTop5SortBySum.TipoPago.tolist()\n",
        "y = dataTipoPagoTop5SortBySum.Sum.tolist()\n",
        "\n",
        "# customized dict for our title\n",
        "font = {'family': 'sans-serif',\n",
        "        'color':  'darkred',\n",
        "        'weight': 'normal',\n",
        "        'size': 20,\n",
        "        }\n",
        "\n",
        "plt.title('Canales de Recaudación', fontdict=font)\n",
        "plt.xlabel('Concepto')\n",
        "plt.ylabel('Total')\n",
        "\n",
        "# Rotating X-axis labels\n",
        "plt.xticks(rotation = 90)\n",
        "\n",
        "plt.bar(x, y)\n",
        "plt.show()"
      ],
      "metadata": {
        "colab": {
          "base_uri": "https://localhost:8080/",
          "height": 339
        },
        "id": "9Immccvx_POJ",
        "outputId": "c9321284-09cf-46f4-f3f8-7ed03a696d5b"
      },
      "execution_count": 84,
      "outputs": [
        {
          "output_type": "display_data",
          "data": {
            "text/plain": [
              "<Figure size 432x288 with 1 Axes>"
            ],
            "image/png": "[encoded data removed]"
          },
          "metadata": {
            "needs_background": "light"
          }
        }
      ]
    },
    {
      "cell_type": "code",
      "source": [],
      "metadata": {
        "id": "MS4VZd2D_PQz"
      },
      "execution_count": null,
      "outputs": []
    },
    {
      "cell_type": "code",
      "source": [],
      "metadata": {
        "id": "fTGs_dNe_PS7"
      },
      "execution_count": null,
      "outputs": []
    },
    {
      "cell_type": "code",
      "source": [],
      "metadata": {
        "id": "aS88Lt19_PVW"
      },
      "execution_count": null,
      "outputs": []
    },
    {
      "cell_type": "code",
      "source": [],
      "metadata": {
        "id": "aVlz4Xh27cHF"
      },
      "execution_count": null,
      "outputs": []
    },
    {
      "cell_type": "code",
      "source": [],
      "metadata": {
        "id": "5f4ciinw7cJe"
      },
      "execution_count": null,
      "outputs": []
    },
    {
      "cell_type": "code",
      "source": [],
      "metadata": {
        "id": "JNhfmfSg7cMX"
      },
      "execution_count": null,
      "outputs": []
    },
    {
      "cell_type": "code",
      "source": [
        "# Creando los deciles\n",
        "groupDeciles = 5\n",
        "countDeciles = 0\n",
        "sumItem = 0\n",
        "contRango = 1\n",
        "\n",
        "dataConceptoDecil = []\n",
        "dataConceptoValor = []\n",
        "\n",
        "for valItem in dataConteptoSortBySum['Sum'].tolist():\n",
        "  #print(valItem)\n",
        "  \n",
        "  if countDeciles < groupDeciles:\n",
        "    countDeciles = countDeciles+1\n",
        "    sumItem = sumItem + valItem\n",
        "    #print(sumItem)\n",
        "  else:\n",
        "    #print(sumItem)\n",
        "    #print('-----------------')\n",
        "    dataConceptoDecil.append('Decil ' + str(contRango))\n",
        "    dataConceptoValor.append(sumItem)\n",
        "\n",
        "    sumItem = valItem\n",
        "    contRango = contRango + 1\n",
        "    countDeciles = 1\n",
        "\n",
        "dataConceptoValor[9] = dataConceptoValor[9] + sumItem"
      ],
      "metadata": {
        "id": "BSN349UPoVUn"
      },
      "execution_count": 19,
      "outputs": []
    },
    {
      "cell_type": "code",
      "source": [
        "#dataConceptoDecil\n",
        "dataConceptoDFDecil = pd.DataFrame(dataConceptoValor, dataConceptoDecil).reset_index()\n",
        "headers = ['Decil', 'Valor']\n",
        "dataConceptoDFDecil.columns = headers\n",
        "dataConceptoDFDecil"
      ],
      "metadata": {
        "colab": {
          "base_uri": "https://localhost:8080/",
          "height": 363
        },
        "id": "0y3zI6XdutSU",
        "outputId": "580a9c63-e063-4f4d-cb47-9454d5b3ef12"
      },
      "execution_count": 20,
      "outputs": [
        {
          "output_type": "execute_result",
          "data": {
            "text/plain": [
              "      Decil         Valor\n",
              "0   Decil 1  3.565153e+08\n",
              "1   Decil 2  9.988709e+05\n",
              "2   Decil 3  3.370452e+05\n",
              "3   Decil 4  1.936984e+05\n",
              "4   Decil 5  8.821640e+04\n",
              "5   Decil 6  3.143103e+04\n",
              "6   Decil 7  1.166260e+04\n",
              "7   Decil 8  3.779800e+03\n",
              "8   Decil 9  2.417600e+03\n",
              "9  Decil 10  1.109600e+03"
            ],
            "text/html": [
              "\n",
              "  <div id=\"df-1eb4e465-95be-41fd-a8fa-af0c2f5c0e88\">\n",
              "    <div class=\"colab-df-container\">\n",
              "      <div>\n",
              "<style scoped>\n",
              "    .dataframe tbody tr th:only-of-type {\n",
              "        vertical-align: middle;\n",
              "    }\n",
              "\n",
              "    .dataframe tbody tr th {\n",
              "        vertical-align: top;\n",
              "    }\n",
              "\n",
              "    .dataframe thead th {\n",
              "        text-align: right;\n",
              "    }\n",
              "</style>\n",
              "<table border=\"1\" class=\"dataframe\">\n",
              "  <thead>\n",
              "    <tr style=\"text-align: right;\">\n",
              "      <th></th>\n",
              "      <th>Decil</th>\n",
              "      <th>Valor</th>\n",
              "    </tr>\n",
              "  </thead>\n",
              "  <tbody>\n",
              "    <tr>\n",
              "      <th>0</th>\n",
              "      <td>Decil 1</td>\n",
              "      <td>3.565153e+08</td>\n",
              "    </tr>\n",
              "    <tr>\n",
              "      <th>1</th>\n",
              "      <td>Decil 2</td>\n",
              "      <td>9.988709e+05</td>\n",
              "    </tr>\n",
              "    <tr>\n",
              "      <th>2</th>\n",
              "      <td>Decil 3</td>\n",
              "      <td>3.370452e+05</td>\n",
              "    </tr>\n",
              "    <tr>\n",
              "      <th>3</th>\n",
              "      <td>Decil 4</td>\n",
              "      <td>1.936984e+05</td>\n",
              "    </tr>\n",
              "    <tr>\n",
              "      <th>4</th>\n",
              "      <td>Decil 5</td>\n",
              "      <td>8.821640e+04</td>\n",
              "    </tr>\n",
              "    <tr>\n",
              "      <th>5</th>\n",
              "      <td>Decil 6</td>\n",
              "      <td>3.143103e+04</td>\n",
              "    </tr>\n",
              "    <tr>\n",
              "      <th>6</th>\n",
              "      <td>Decil 7</td>\n",
              "      <td>1.166260e+04</td>\n",
              "    </tr>\n",
              "    <tr>\n",
              "      <th>7</th>\n",
              "      <td>Decil 8</td>\n",
              "      <td>3.779800e+03</td>\n",
              "    </tr>\n",
              "    <tr>\n",
              "      <th>8</th>\n",
              "      <td>Decil 9</td>\n",
              "      <td>2.417600e+03</td>\n",
              "    </tr>\n",
              "    <tr>\n",
              "      <th>9</th>\n",
              "      <td>Decil 10</td>\n",
              "      <td>1.109600e+03</td>\n",
              "    </tr>\n",
              "  </tbody>\n",
              "</table>\n",
              "</div>\n",
              "      <button class=\"colab-df-convert\" onclick=\"convertToInteractive('df-1eb4e465-95be-41fd-a8fa-af0c2f5c0e88')\"\n",
              "              title=\"Convert this dataframe to an interactive table.\"\n",
              "              style=\"display:none;\">\n",
              "        \n",
              "  <svg xmlns=\"http://www.w3.org/2000/svg\" height=\"24px\"viewBox=\"0 0 24 24\"\n",
              "       width=\"24px\">\n",
              "    <path d=\"M0 0h24v24H0V0z\" fill=\"none\"/>\n",
              "    <path d=\"M18.56 5.44l.94 2.06.94-2.06 2.06-.94-2.06-.94-.94-2.06-.94 2.06-2.06.94zm-11 1L8.5 8.5l.94-2.06 2.06-.94-2.06-.94L8.5 2.5l-.94 2.06-2.06.94zm10 10l.94 2.06.94-2.06 2.06-.94-2.06-.94-.94-2.06-.94 2.06-2.06.94z\"/><path d=\"M17.41 7.96l-1.37-1.37c-.4-.4-.92-.59-1.43-.59-.52 0-1.04.2-1.43.59L10.3 9.45l-7.72 7.72c-.78.78-.78 2.05 0 2.83L4 21.41c.39.39.9.59 1.41.59.51 0 1.02-.2 1.41-.59l7.78-7.78 2.81-2.81c.8-.78.8-2.07 0-2.86zM5.41 20L4 18.59l7.72-7.72 1.47 1.35L5.41 20z\"/>\n",
              "  </svg>\n",
              "      </button>\n",
              "      \n",
              "  <style>\n",
              "    .colab-df-container {\n",
              "      display:flex;\n",
              "      flex-wrap:wrap;\n",
              "      gap: 12px;\n",
              "    }\n",
              "\n",
              "    .colab-df-convert {\n",
              "      background-color: #E8F0FE;\n",
              "      border: none;\n",
              "      border-radius: 50%;\n",
              "      cursor: pointer;\n",
              "      display: none;\n",
              "      fill: #1967D2;\n",
              "      height: 32px;\n",
              "      padding: 0 0 0 0;\n",
              "      width: 32px;\n",
              "    }\n",
              "\n",
              "    .colab-df-convert:hover {\n",
              "      background-color: #E2EBFA;\n",
              "      box-shadow: 0px 1px 2px rgba(60, 64, 67, 0.3), 0px 1px 3px 1px rgba(60, 64, 67, 0.15);\n",
              "      fill: #174EA6;\n",
              "    }\n",
              "\n",
              "    [theme=dark] .colab-df-convert {\n",
              "      background-color: #3B4455;\n",
              "      fill: #D2E3FC;\n",
              "    }\n",
              "\n",
              "    [theme=dark] .colab-df-convert:hover {\n",
              "      background-color: #434B5C;\n",
              "      box-shadow: 0px 1px 3px 1px rgba(0, 0, 0, 0.15);\n",
              "      filter: drop-shadow(0px 1px 2px rgba(0, 0, 0, 0.3));\n",
              "      fill: #FFFFFF;\n",
              "    }\n",
              "  </style>\n",
              "\n",
              "      <script>\n",
              "        const buttonEl =\n",
              "          document.querySelector('#df-1eb4e465-95be-41fd-a8fa-af0c2f5c0e88 button.colab-df-convert');\n",
              "        buttonEl.style.display =\n",
              "          google.colab.kernel.accessAllowed ? 'block' : 'none';\n",
              "\n",
              "        async function convertToInteractive(key) {\n",
              "          const element = document.querySelector('#df-1eb4e465-95be-41fd-a8fa-af0c2f5c0e88');\n",
              "          const dataTable =\n",
              "            await google.colab.kernel.invokeFunction('convertToInteractive',\n",
              "                                                     [key], {});\n",
              "          if (!dataTable) return;\n",
              "\n",
              "          const docLinkHtml = 'Like what you see? Visit the ' +\n",
              "            '<a target=\"_blank\" href=https://colab.research.google.com/notebooks/data_table.ipynb>data table notebook</a>'\n",
              "            + ' to learn more about interactive tables.';\n",
              "          element.innerHTML = '';\n",
              "          dataTable['output_type'] = 'display_data';\n",
              "          await google.colab.output.renderOutput(dataTable, element);\n",
              "          const docLink = document.createElement('div');\n",
              "          docLink.innerHTML = docLinkHtml;\n",
              "          element.appendChild(docLink);\n",
              "        }\n",
              "      </script>\n",
              "    </div>\n",
              "  </div>\n",
              "  "
            ]
          },
          "metadata": {},
          "execution_count": 20
        }
      ]
    },
    {
      "cell_type": "code",
      "source": [
        "dataConceptoDFDecil.Decil.tolist()"
      ],
      "metadata": {
        "colab": {
          "base_uri": "https://localhost:8080/"
        },
        "id": "CmL2qk2XxuY-",
        "outputId": "8c3ccb54-3f45-4e9e-b3a1-b850106d017a"
      },
      "execution_count": 21,
      "outputs": [
        {
          "output_type": "execute_result",
          "data": {
            "text/plain": [
              "['Decil 1',\n",
              " 'Decil 2',\n",
              " 'Decil 3',\n",
              " 'Decil 4',\n",
              " 'Decil 5',\n",
              " 'Decil 6',\n",
              " 'Decil 7',\n",
              " 'Decil 8',\n",
              " 'Decil 9',\n",
              " 'Decil 10']"
            ]
          },
          "metadata": {},
          "execution_count": 21
        }
      ]
    },
    {
      "cell_type": "code",
      "source": [
        "import matplotlib.pyplot as plt\n",
        "\n",
        "x = dataConceptoDFDecil.Decil.tolist()\n",
        "y = dataConceptoDFDecil.Valor.tolist()\n",
        "\n",
        "# customized dict for our title\n",
        "font = {'family': 'sans-serif',\n",
        "        'color':  'darkred',\n",
        "        'weight': 'normal',\n",
        "        'size': 20,\n",
        "        }\n",
        "\n",
        "plt.title('Recaudación Top 10-15', fontdict=font)\n",
        "plt.xlabel('Concepto')\n",
        "plt.ylabel('Total')\n",
        "\n",
        "# Rotating X-axis labels\n",
        "plt.xticks(rotation = 90)\n",
        "\n",
        "plt.bar(x, y)\n",
        "plt.show()"
      ],
      "metadata": {
        "colab": {
          "base_uri": "https://localhost:8080/",
          "height": 332
        },
        "id": "SUvJkrKbxvFQ",
        "outputId": "db80723e-d91e-4710-b674-799df6d57302"
      },
      "execution_count": 22,
      "outputs": [
        {
          "output_type": "display_data",
          "data": {
            "text/plain": [
              "<Figure size 432x288 with 1 Axes>"
            ],
            "image/png": "[encoded data removed]"
          },
          "metadata": {
            "needs_background": "light"
          }
        }
      ]
    },
    {
      "cell_type": "code",
      "source": [
        "import matplotlib.pyplot as plt\n",
        "\n",
        "x = dataConceptoDFDecil.Decil.tail(9).tolist()\n",
        "y = dataConceptoDFDecil.Valor.tail(9).tolist()\n",
        "\n",
        "# customized dict for our title\n",
        "font = {'family': 'sans-serif',\n",
        "        'color':  'darkred',\n",
        "        'weight': 'normal',\n",
        "        'size': 20,\n",
        "        }\n",
        "\n",
        "plt.title('Recaudación Top 10-15', fontdict=font)\n",
        "plt.xlabel('Concepto')\n",
        "plt.ylabel('Total')\n",
        "\n",
        "# Rotating X-axis labels\n",
        "plt.xticks(rotation = 90)\n",
        "\n",
        "plt.bar(x, y)\n",
        "plt.show()"
      ],
      "metadata": {
        "colab": {
          "base_uri": "https://localhost:8080/",
          "height": 332
        },
        "id": "WvFt6OMixvHl",
        "outputId": "ed881291-299d-4667-8d83-45fdba3ed4d0"
      },
      "execution_count": 23,
      "outputs": [
        {
          "output_type": "display_data",
          "data": {
            "text/plain": [
              "<Figure size 432x288 with 1 Axes>"
            ],
            "image/png": "[encoded data removed]"
          },
          "metadata": {
            "needs_background": "light"
          }
        }
      ]
    },
    {
      "cell_type": "code",
      "source": [],
      "metadata": {
        "id": "WgJmrTF8ySjU"
      },
      "execution_count": 23,
      "outputs": []
    },
    {
      "cell_type": "code",
      "source": [],
      "metadata": {
        "id": "K1Sdcmp1ySlo"
      },
      "execution_count": 23,
      "outputs": []
    },
    {
      "cell_type": "code",
      "source": [
        "rango = (dataConteptoSortBySum.index>=10)&(dataConteptoSortBySum.index<15)\n",
        "rango"
      ],
      "metadata": {
        "colab": {
          "base_uri": "https://localhost:8080/"
        },
        "id": "eJw0exsDJmQR",
        "outputId": "4dd03457-f3f0-4ff7-ca5c-007ac38a320e"
      },
      "execution_count": 24,
      "outputs": [
        {
          "output_type": "execute_result",
          "data": {
            "text/plain": [
              "array([False, False, False, False, False, False, False, False, False,\n",
              "       False,  True,  True,  True,  True,  True, False, False, False,\n",
              "       False, False, False, False, False, False, False, False, False,\n",
              "       False, False, False, False, False, False, False, False, False,\n",
              "       False, False, False, False, False, False, False, False, False,\n",
              "       False, False, False, False, False, False, False, False])"
            ]
          },
          "metadata": {},
          "execution_count": 24
        }
      ]
    },
    {
      "cell_type": "code",
      "source": [
        "import matplotlib.pyplot as plt\n",
        "\n",
        "x = dataConteptoSortBySum[rango].Concepto.tolist()\n",
        "y = dataConteptoSortBySum[rango].Sum.tolist()\n",
        "\n",
        "# customized dict for our title\n",
        "font = {'family': 'sans-serif',\n",
        "        'color':  'darkred',\n",
        "        'weight': 'normal',\n",
        "        'size': 20,\n",
        "        }\n",
        "\n",
        "plt.title('Recaudación Top 10-15', fontdict=font)\n",
        "plt.xlabel('Concepto')\n",
        "plt.ylabel('Total')\n",
        "\n",
        "# Rotating X-axis labels\n",
        "plt.xticks(rotation = 90)\n",
        "\n",
        "plt.bar(x, y)\n",
        "plt.show()"
      ],
      "metadata": {
        "colab": {
          "base_uri": "https://localhost:8080/",
          "height": 581
        },
        "id": "e-sqvE9VJ97x",
        "outputId": "38245578-036c-4675-d412-49db1a676f66"
      },
      "execution_count": 25,
      "outputs": [
        {
          "output_type": "display_data",
          "data": {
            "text/plain": [
              "<Figure size 432x288 with 1 Axes>"
            ],
            "image/png": "[encoded data removed]"
          },
          "metadata": {
            "needs_background": "light"
          }
        }
      ]
    },
    {
      "cell_type": "code",
      "source": [
        "rango = (dataConteptoSortBySum.index>=10)&(dataConteptoSortBySum.index<20)\n",
        "rango"
      ],
      "metadata": {
        "colab": {
          "base_uri": "https://localhost:8080/"
        },
        "id": "mZiwQC9pKCns",
        "outputId": "472b1adc-8a53-4527-8e81-64248c966e1d"
      },
      "execution_count": 26,
      "outputs": [
        {
          "output_type": "execute_result",
          "data": {
            "text/plain": [
              "array([False, False, False, False, False, False, False, False, False,\n",
              "       False,  True,  True,  True,  True,  True,  True,  True,  True,\n",
              "        True,  True, False, False, False, False, False, False, False,\n",
              "       False, False, False, False, False, False, False, False, False,\n",
              "       False, False, False, False, False, False, False, False, False,\n",
              "       False, False, False, False, False, False, False, False])"
            ]
          },
          "metadata": {},
          "execution_count": 26
        }
      ]
    },
    {
      "cell_type": "code",
      "source": [
        "import matplotlib.pyplot as plt\n",
        "\n",
        "x = dataConteptoSortBySum[rango].Concepto.tolist()\n",
        "y = dataConteptoSortBySum[rango].Sum.tolist()\n",
        "\n",
        "# customized dict for our title\n",
        "font = {'family': 'sans-serif',\n",
        "        'color':  'darkred',\n",
        "        'weight': 'normal',\n",
        "        'size': 20,\n",
        "        }\n",
        "\n",
        "plt.title('Recaudación Top 15-20', fontdict=font)\n",
        "plt.xlabel('Concepto')\n",
        "plt.ylabel('Total')\n",
        "\n",
        "# Rotating X-axis labels\n",
        "plt.xticks(rotation = 90)\n",
        "\n",
        "plt.bar(x, y)\n",
        "plt.show()"
      ],
      "metadata": {
        "colab": {
          "base_uri": "https://localhost:8080/",
          "height": 581
        },
        "id": "4mun0x2JKShP",
        "outputId": "00e43ba5-0795-41eb-f845-d6cb728b539e"
      },
      "execution_count": 27,
      "outputs": [
        {
          "output_type": "display_data",
          "data": {
            "text/plain": [
              "<Figure size 432x288 with 1 Axes>"
            ],
            "image/png": "[encoded data removed]"
          },
          "metadata": {
            "needs_background": "light"
          }
        }
      ]
    },
    {
      "cell_type": "code",
      "source": [
        "rango = (dataConteptoSortBySum.index>=33)\n",
        "rango"
      ],
      "metadata": {
        "id": "AtCURk5fKYca",
        "colab": {
          "base_uri": "https://localhost:8080/"
        },
        "outputId": "67e15110-9d0b-4d6f-ac22-b68ad276f7da"
      },
      "execution_count": 28,
      "outputs": [
        {
          "output_type": "execute_result",
          "data": {
            "text/plain": [
              "array([False, False, False, False, False, False, False, False, False,\n",
              "       False, False, False, False, False, False, False, False, False,\n",
              "       False, False, False, False, False, False, False, False, False,\n",
              "       False, False, False, False, False, False,  True,  True,  True,\n",
              "        True,  True,  True,  True,  True,  True,  True,  True,  True,\n",
              "        True,  True,  True,  True,  True,  True,  True,  True])"
            ]
          },
          "metadata": {},
          "execution_count": 28
        }
      ]
    },
    {
      "cell_type": "code",
      "source": [
        "import matplotlib.pyplot as plt\n",
        "\n",
        "x = dataConteptoSortBySum[rango].Concepto.tolist()\n",
        "y = dataConteptoSortBySum[rango].Sum.tolist()\n",
        "\n",
        "# customized dict for our title\n",
        "font = {'family': 'sans-serif',\n",
        "        'color':  'darkred',\n",
        "        'weight': 'normal',\n",
        "        'size': 20,\n",
        "        }\n",
        "\n",
        "plt.title('Recaudación Top 15-20', fontdict=font)\n",
        "plt.xlabel('Concepto')\n",
        "plt.ylabel('Total')\n",
        "\n",
        "# Rotating X-axis labels\n",
        "plt.xticks(rotation = 90)\n",
        "\n",
        "plt.bar(x, y)\n",
        "plt.show()"
      ],
      "metadata": {
        "colab": {
          "base_uri": "https://localhost:8080/",
          "height": 748
        },
        "id": "9P0ekrM2mE93",
        "outputId": "406fe153-fe0c-4448-d355-67d9b05d13fc"
      },
      "execution_count": 29,
      "outputs": [
        {
          "output_type": "display_data",
          "data": {
            "text/plain": [
              "<Figure size 432x288 with 1 Axes>"
            ],
            "image/png": "[encoded data removed]"
          },
          "metadata": {
            "needs_background": "light"
          }
        }
      ]
    },
    {
      "cell_type": "code",
      "source": [],
      "metadata": {
        "id": "sYss3cXymFky"
      },
      "execution_count": 29,
      "outputs": []
    }
  ]
}