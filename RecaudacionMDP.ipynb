{
  "nbformat": 4,
  "nbformat_minor": 0,
  "metadata": {
    "colab": {
      "provenance": []
    },
    "kernelspec": {
      "name": "python3",
      "display_name": "Python 3"
    },
    "language_info": {
      "name": "python"
    }
  },
  "cells": [
    {
      "cell_type": "markdown",
      "source": [
        "## Análisis Exploratorio de los Ingresos recaudados de la Municipalidad Distrital de Pucusana - Año 2022\n",
        "La información corresponde a todos los ingresos recaudados por la Municipalidad Distrital de Pucusana en el año 2022 (Enero - Setiembre). Los tipos de ingresos corresponden a impuesto predial, arbitrios (limpieza pública, parques y jardines o serenazgo) y otros conceptos como: formularios, carnets, constancias, multas, etc."
      ],
      "metadata": {
        "id": "9tBPXoFVZ5BE"
      }
    },
    {
      "cell_type": "markdown",
      "source": [
        "## 1. Carga de Datos de Diferentes Origenes"
      ],
      "metadata": {
        "id": "SoimFp1fa6hh"
      }
    },
    {
      "cell_type": "code",
      "source": [
        "import pandas as pd\n",
        "\n",
        "url='https://drive.google.com/file/d/1P7gB1y4SbMEeeQwOA-eX_AYiI-4tc9oR/view?usp=sharing'\n",
        "\n",
        "file_id=url.split('/')[-2]\n",
        "dwn_url='https://drive.google.com/uc?id=' + file_id\n",
        "\n",
        "df = pd.read_csv(dwn_url, encoding = 'utf-8', sep=';')\n",
        "\n",
        "df.shape"
      ],
      "metadata": {
        "colab": {
          "base_uri": "https://localhost:8080/"
        },
        "id": "wVO9AyxtqqB0",
        "outputId": "0f2d9466-f23a-4cbf-94fb-3fb60b3735e2"
      },
      "execution_count": 1,
      "outputs": [
        {
          "output_type": "execute_result",
          "data": {
            "text/plain": [
              "(101859, 38)"
            ]
          },
          "metadata": {},
          "execution_count": 1
        }
      ]
    },
    {
      "cell_type": "code",
      "source": [
        "df.columns"
      ],
      "metadata": {
        "colab": {
          "base_uri": "https://localhost:8080/"
        },
        "id": "qiLmu1kOp-jM",
        "outputId": "580d4a13-6034-46e6-ef53-9be945cd03da"
      },
      "execution_count": 2,
      "outputs": [
        {
          "output_type": "execute_result",
          "data": {
            "text/plain": [
              "Index(['FECHA_CORTE', 'UBIGEO', 'DEPARTAMENTO', 'PROVINCIA', 'DISTRITO',\n",
              "       'ANIO', 'NUMMOVIMIENTO', 'TIPOMOV', 'CODPERSONA', 'docidentidad',\n",
              "       'DATOSPERSONA', 'OBSERVACIONES', ' IMPORTE_C ', ' DERECHO_C ',\n",
              "       ' INTERESES_C ', ' REAJUSTE_C ', ' DESCUENTO_C ', ' TOTALCOBRADO ',\n",
              "       ' RECIBIDO ', ' VUELTO ', 'FECHACANC', 'FECHACANC.1', 'TIPOPAGO',\n",
              "       'NUMORDEN', 'ANIORECIBO', 'NUMRECIBO', 'CODCUENTA', 'CODTRIBUTO',\n",
              "       'NUMCUOTA', 'CODPREDIO', 'UBICACIONPREDIAL', 'CONCEPTO', ' IMPORTE_D ',\n",
              "       ' DERECHO_D ', ' INTERESES_D ', ' REAJUSTE_D ', ' DESCUENTO_D ',\n",
              "       ' SUBTOTAL_D '],\n",
              "      dtype='object')"
            ]
          },
          "metadata": {},
          "execution_count": 2
        }
      ]
    },
    {
      "cell_type": "code",
      "source": [
        "# Eliminando los caracteres en blanco del nombre de las columnas\n",
        "df.rename(columns = {' IMPORTE_C ':'IMPORTE_C', \n",
        "                     ' DERECHO_C ':'DERECHO_C',\n",
        "                     ' INTERESES_C ':'INTERESES_C',\n",
        "                     ' REAJUSTE_C ':'REAJUSTE_C',\n",
        "                     ' DESCUENTO_C ':'DESCUENTO_C',\n",
        "                     ' TOTALCOBRADO ':'TOTALCOBRADO',\n",
        "                     ' RECIBIDO ':'RECIBIDO',\n",
        "                     ' VUELTO ':'VUELTO',\n",
        "                     ' DERECHO_D ':'DERECHO_D',\n",
        "                     ' INTERESES_D ':'INTERESES_D',\n",
        "                     ' REAJUSTE_D ':'REAJUSTE_D',\n",
        "                     ' IMPORTE_D ':'IMPORTE_D',\n",
        "                     ' DESCUENTO_D ':'DESCUENTO_D',\n",
        "                     ' SUBTOTAL_D ':'SUBTOTAL_D'}, inplace=True)"
      ],
      "metadata": {
        "id": "aPgDurhf1WR8"
      },
      "execution_count": 3,
      "outputs": []
    },
    {
      "cell_type": "code",
      "source": [
        "# String to Float format\n",
        "def StringToFloatFormat(x):\n",
        "  partialNum = x.split(',')\n",
        "  allNum = ''\n",
        "  \n",
        "  for num in partialNum:\n",
        "    allNum = allNum + num\n",
        "\n",
        "  return allNum\n",
        "\n",
        "#print(StringToFloatFormat('19,571.37'))\n",
        "df['TOTALCOBRADO'] = df['TOTALCOBRADO'].apply(StringToFloatFormat)"
      ],
      "metadata": {
        "id": "hYGsY_7E27ew"
      },
      "execution_count": 4,
      "outputs": []
    },
    {
      "cell_type": "code",
      "source": [
        "df['FECHA_CORTE'] = df['FECHA_CORTE'].astype(str)\n",
        "df['UBIGEO'] = df['UBIGEO'].astype(str)\n",
        "df['TOTALCOBRADO'] = df['TOTALCOBRADO'].astype(float)\n",
        "df.info()"
      ],
      "metadata": {
        "id": "hV6Yif8EaG3p",
        "colab": {
          "base_uri": "https://localhost:8080/"
        },
        "outputId": "fec83d0d-64c2-4179-9764-267b51280301"
      },
      "execution_count": 5,
      "outputs": [
        {
          "output_type": "stream",
          "name": "stdout",
          "text": [
            "<class 'pandas.core.frame.DataFrame'>\n",
            "RangeIndex: 101859 entries, 0 to 101858\n",
            "Data columns (total 38 columns):\n",
            " #   Column            Non-Null Count   Dtype  \n",
            "---  ------            --------------   -----  \n",
            " 0   FECHA_CORTE       101859 non-null  object \n",
            " 1   UBIGEO            101859 non-null  object \n",
            " 2   DEPARTAMENTO      101859 non-null  object \n",
            " 3   PROVINCIA         101859 non-null  object \n",
            " 4   DISTRITO          101859 non-null  object \n",
            " 5   ANIO              101859 non-null  int64  \n",
            " 6   NUMMOVIMIENTO     101859 non-null  int64  \n",
            " 7   TIPOMOV           101859 non-null  object \n",
            " 8   CODPERSONA        101859 non-null  int64  \n",
            " 9   docidentidad      101859 non-null  object \n",
            " 10  DATOSPERSONA      101859 non-null  object \n",
            " 11  OBSERVACIONES     98061 non-null   object \n",
            " 12  IMPORTE_C         101859 non-null  object \n",
            " 13  DERECHO_C         101859 non-null  object \n",
            " 14  INTERESES_C       101859 non-null  object \n",
            " 15  REAJUSTE_C        101859 non-null  object \n",
            " 16  DESCUENTO_C       101859 non-null  object \n",
            " 17  TOTALCOBRADO      101859 non-null  float64\n",
            " 18  RECIBIDO          101859 non-null  object \n",
            " 19  VUELTO            101859 non-null  object \n",
            " 20  FECHACANC         101859 non-null  object \n",
            " 21  FECHACANC.1       101859 non-null  object \n",
            " 22  TIPOPAGO          101859 non-null  object \n",
            " 23  NUMORDEN          101859 non-null  int64  \n",
            " 24  ANIORECIBO        101859 non-null  int64  \n",
            " 25  NUMRECIBO         96397 non-null   float64\n",
            " 26  CODCUENTA         96397 non-null   float64\n",
            " 27  CODTRIBUTO        96397 non-null   float64\n",
            " 28  NUMCUOTA          96397 non-null   float64\n",
            " 29  CODPREDIO         96397 non-null   float64\n",
            " 30  UBICACIONPREDIAL  101859 non-null  object \n",
            " 31  CONCEPTO          101859 non-null  object \n",
            " 32  IMPORTE_D         101859 non-null  object \n",
            " 33  DERECHO_D         101859 non-null  object \n",
            " 34  INTERESES_D       101859 non-null  object \n",
            " 35  REAJUSTE_D        101859 non-null  object \n",
            " 36  DESCUENTO_D       101859 non-null  object \n",
            " 37  SUBTOTAL_D        101859 non-null  object \n",
            "dtypes: float64(6), int64(5), object(27)\n",
            "memory usage: 29.5+ MB\n"
          ]
        }
      ]
    },
    {
      "cell_type": "code",
      "source": [
        "#dataContepto = df.groupby(['CONCEPTO'])['CONCEPTO'].count()\n",
        "\n",
        "#dfAlcabala = df.query(\"((CONCEPTO == 'ALCABALA'))\")\n",
        "#dfAlcabala['TOTALCOBRADO']\n",
        "#dfAlcabala['TOTALCOBRADO'].sum()"
      ],
      "metadata": {
        "id": "DLBBGwbb6b8o"
      },
      "execution_count": 6,
      "outputs": []
    },
    {
      "cell_type": "code",
      "source": [],
      "metadata": {
        "id": "EPTLbgPa5-i7"
      },
      "execution_count": 6,
      "outputs": []
    },
    {
      "cell_type": "code",
      "source": [
        "dataContepto = df.groupby(['CONCEPTO']).agg({'CONCEPTO':'count',\n",
        "                                             'TOTALCOBRADO':['sum', 'max']})\n",
        "dataContepto = dataContepto.reset_index()\n",
        "dataContepto.head()"
      ],
      "metadata": {
        "colab": {
          "base_uri": "https://localhost:8080/",
          "height": 238
        },
        "id": "UUwfcbN-nxV4",
        "outputId": "2409339a-e55e-4021-94dd-83dc54041caa"
      },
      "execution_count": 36,
      "outputs": [
        {
          "output_type": "execute_result",
          "data": {
            "text/plain": [
              "                           CONCEPTO       TOTALCOBRADO           \n",
              "                                    count          sum        max\n",
              "0                          ALCABALA     8    362380.38  155461.52\n",
              "1                 BAÑOS MUNICIPALES   398     48323.85    1351.00\n",
              "2                           CARNETS    14       263.20      18.80\n",
              "3  CARNETS Y/O TARJETAS DE ATENCION   231      4334.00      18.80\n",
              "4        CERTIFICADOS DOMICILIARIOS     1         8.80       8.80"
            ],
            "text/html": [
              "\n",
              "  <div id=\"df-64874df0-15b8-40cd-89fe-7150436665e2\">\n",
              "    <div class=\"colab-df-container\">\n",
              "      <div>\n",
              "<style scoped>\n",
              "    .dataframe tbody tr th:only-of-type {\n",
              "        vertical-align: middle;\n",
              "    }\n",
              "\n",
              "    .dataframe tbody tr th {\n",
              "        vertical-align: top;\n",
              "    }\n",
              "\n",
              "    .dataframe thead tr th {\n",
              "        text-align: left;\n",
              "    }\n",
              "</style>\n",
              "<table border=\"1\" class=\"dataframe\">\n",
              "  <thead>\n",
              "    <tr>\n",
              "      <th></th>\n",
              "      <th colspan=\"2\" halign=\"left\">CONCEPTO</th>\n",
              "      <th colspan=\"2\" halign=\"left\">TOTALCOBRADO</th>\n",
              "    </tr>\n",
              "    <tr>\n",
              "      <th></th>\n",
              "      <th></th>\n",
              "      <th>count</th>\n",
              "      <th>sum</th>\n",
              "      <th>max</th>\n",
              "    </tr>\n",
              "  </thead>\n",
              "  <tbody>\n",
              "    <tr>\n",
              "      <th>0</th>\n",
              "      <td>ALCABALA</td>\n",
              "      <td>8</td>\n",
              "      <td>362380.38</td>\n",
              "      <td>155461.52</td>\n",
              "    </tr>\n",
              "    <tr>\n",
              "      <th>1</th>\n",
              "      <td>BAÑOS MUNICIPALES</td>\n",
              "      <td>398</td>\n",
              "      <td>48323.85</td>\n",
              "      <td>1351.00</td>\n",
              "    </tr>\n",
              "    <tr>\n",
              "      <th>2</th>\n",
              "      <td>CARNETS</td>\n",
              "      <td>14</td>\n",
              "      <td>263.20</td>\n",
              "      <td>18.80</td>\n",
              "    </tr>\n",
              "    <tr>\n",
              "      <th>3</th>\n",
              "      <td>CARNETS Y/O TARJETAS DE ATENCION</td>\n",
              "      <td>231</td>\n",
              "      <td>4334.00</td>\n",
              "      <td>18.80</td>\n",
              "    </tr>\n",
              "    <tr>\n",
              "      <th>4</th>\n",
              "      <td>CERTIFICADOS DOMICILIARIOS</td>\n",
              "      <td>1</td>\n",
              "      <td>8.80</td>\n",
              "      <td>8.80</td>\n",
              "    </tr>\n",
              "  </tbody>\n",
              "</table>\n",
              "</div>\n",
              "      <button class=\"colab-df-convert\" onclick=\"convertToInteractive('df-64874df0-15b8-40cd-89fe-7150436665e2')\"\n",
              "              title=\"Convert this dataframe to an interactive table.\"\n",
              "              style=\"display:none;\">\n",
              "        \n",
              "  <svg xmlns=\"http://www.w3.org/2000/svg\" height=\"24px\"viewBox=\"0 0 24 24\"\n",
              "       width=\"24px\">\n",
              "    <path d=\"M0 0h24v24H0V0z\" fill=\"none\"/>\n",
              "    <path d=\"M18.56 5.44l.94 2.06.94-2.06 2.06-.94-2.06-.94-.94-2.06-.94 2.06-2.06.94zm-11 1L8.5 8.5l.94-2.06 2.06-.94-2.06-.94L8.5 2.5l-.94 2.06-2.06.94zm10 10l.94 2.06.94-2.06 2.06-.94-2.06-.94-.94-2.06-.94 2.06-2.06.94z\"/><path d=\"M17.41 7.96l-1.37-1.37c-.4-.4-.92-.59-1.43-.59-.52 0-1.04.2-1.43.59L10.3 9.45l-7.72 7.72c-.78.78-.78 2.05 0 2.83L4 21.41c.39.39.9.59 1.41.59.51 0 1.02-.2 1.41-.59l7.78-7.78 2.81-2.81c.8-.78.8-2.07 0-2.86zM5.41 20L4 18.59l7.72-7.72 1.47 1.35L5.41 20z\"/>\n",
              "  </svg>\n",
              "      </button>\n",
              "      \n",
              "  <style>\n",
              "    .colab-df-container {\n",
              "      display:flex;\n",
              "      flex-wrap:wrap;\n",
              "      gap: 12px;\n",
              "    }\n",
              "\n",
              "    .colab-df-convert {\n",
              "      background-color: #E8F0FE;\n",
              "      border: none;\n",
              "      border-radius: 50%;\n",
              "      cursor: pointer;\n",
              "      display: none;\n",
              "      fill: #1967D2;\n",
              "      height: 32px;\n",
              "      padding: 0 0 0 0;\n",
              "      width: 32px;\n",
              "    }\n",
              "\n",
              "    .colab-df-convert:hover {\n",
              "      background-color: #E2EBFA;\n",
              "      box-shadow: 0px 1px 2px rgba(60, 64, 67, 0.3), 0px 1px 3px 1px rgba(60, 64, 67, 0.15);\n",
              "      fill: #174EA6;\n",
              "    }\n",
              "\n",
              "    [theme=dark] .colab-df-convert {\n",
              "      background-color: #3B4455;\n",
              "      fill: #D2E3FC;\n",
              "    }\n",
              "\n",
              "    [theme=dark] .colab-df-convert:hover {\n",
              "      background-color: #434B5C;\n",
              "      box-shadow: 0px 1px 3px 1px rgba(0, 0, 0, 0.15);\n",
              "      filter: drop-shadow(0px 1px 2px rgba(0, 0, 0, 0.3));\n",
              "      fill: #FFFFFF;\n",
              "    }\n",
              "  </style>\n",
              "\n",
              "      <script>\n",
              "        const buttonEl =\n",
              "          document.querySelector('#df-64874df0-15b8-40cd-89fe-7150436665e2 button.colab-df-convert');\n",
              "        buttonEl.style.display =\n",
              "          google.colab.kernel.accessAllowed ? 'block' : 'none';\n",
              "\n",
              "        async function convertToInteractive(key) {\n",
              "          const element = document.querySelector('#df-64874df0-15b8-40cd-89fe-7150436665e2');\n",
              "          const dataTable =\n",
              "            await google.colab.kernel.invokeFunction('convertToInteractive',\n",
              "                                                     [key], {});\n",
              "          if (!dataTable) return;\n",
              "\n",
              "          const docLinkHtml = 'Like what you see? Visit the ' +\n",
              "            '<a target=\"_blank\" href=https://colab.research.google.com/notebooks/data_table.ipynb>data table notebook</a>'\n",
              "            + ' to learn more about interactive tables.';\n",
              "          element.innerHTML = '';\n",
              "          dataTable['output_type'] = 'display_data';\n",
              "          await google.colab.output.renderOutput(dataTable, element);\n",
              "          const docLink = document.createElement('div');\n",
              "          docLink.innerHTML = docLinkHtml;\n",
              "          element.appendChild(docLink);\n",
              "        }\n",
              "      </script>\n",
              "    </div>\n",
              "  </div>\n",
              "  "
            ]
          },
          "metadata": {},
          "execution_count": 36
        }
      ]
    },
    {
      "cell_type": "code",
      "source": [
        "dataContepto.shape"
      ],
      "metadata": {
        "colab": {
          "base_uri": "https://localhost:8080/"
        },
        "id": "aG0Ux6Pq8ij8",
        "outputId": "bb6bd71b-646e-4b34-b9f4-918f76b7f304"
      },
      "execution_count": 37,
      "outputs": [
        {
          "output_type": "execute_result",
          "data": {
            "text/plain": [
              "(53, 4)"
            ]
          },
          "metadata": {},
          "execution_count": 37
        }
      ]
    },
    {
      "cell_type": "code",
      "source": [
        "dataContepto.columns"
      ],
      "metadata": {
        "colab": {
          "base_uri": "https://localhost:8080/"
        },
        "id": "C7Eaa3Q8wqze",
        "outputId": "eab168a4-1a6e-48d3-b51d-93674c2b9b3a"
      },
      "execution_count": 38,
      "outputs": [
        {
          "output_type": "execute_result",
          "data": {
            "text/plain": [
              "MultiIndex([(    'CONCEPTO',      ''),\n",
              "            (    'CONCEPTO', 'count'),\n",
              "            ('TOTALCOBRADO',   'sum'),\n",
              "            ('TOTALCOBRADO',   'max')],\n",
              "           )"
            ]
          },
          "metadata": {},
          "execution_count": 38
        }
      ]
    },
    {
      "cell_type": "code",
      "source": [
        "from tables import index\n",
        "headers = ['Concepto', 'Count', 'Sum', 'Max']\n",
        "dataContepto.columns = headers\n",
        "\n",
        "dataConteptoSortBySum = dataContepto.sort_values(by=['Sum'], ascending=False).reset_index().drop(['index'], axis=1)\n",
        "dataConteptoSortBySum.head()"
      ],
      "metadata": {
        "colab": {
          "base_uri": "https://localhost:8080/",
          "height": 206
        },
        "id": "H-gC68rR1Knu",
        "outputId": "ff3ef443-7df2-41b2-ad12-37f1195a2728"
      },
      "execution_count": 75,
      "outputs": [
        {
          "output_type": "execute_result",
          "data": {
            "text/plain": [
              "             Concepto  Count           Sum        Max\n",
              "0    LIMPIEZA PÚBLICA  27463  1.149202e+08  437071.76\n",
              "1           SERENAZGO  26450  1.118026e+08  437071.76\n",
              "2  PARQUES Y JARDINES  21956  9.702921e+07  437071.76\n",
              "3    IMPUESTO PREDIAL  20222  3.206345e+07  437071.76\n",
              "4    MULTA TRIBUTARIA     94  6.998169e+05  139731.69"
            ],
            "text/html": [
              "\n",
              "  <div id=\"df-3642a081-58fa-49c7-9fe7-fb3e42b6e0ae\">\n",
              "    <div class=\"colab-df-container\">\n",
              "      <div>\n",
              "<style scoped>\n",
              "    .dataframe tbody tr th:only-of-type {\n",
              "        vertical-align: middle;\n",
              "    }\n",
              "\n",
              "    .dataframe tbody tr th {\n",
              "        vertical-align: top;\n",
              "    }\n",
              "\n",
              "    .dataframe thead th {\n",
              "        text-align: right;\n",
              "    }\n",
              "</style>\n",
              "<table border=\"1\" class=\"dataframe\">\n",
              "  <thead>\n",
              "    <tr style=\"text-align: right;\">\n",
              "      <th></th>\n",
              "      <th>Concepto</th>\n",
              "      <th>Count</th>\n",
              "      <th>Sum</th>\n",
              "      <th>Max</th>\n",
              "    </tr>\n",
              "  </thead>\n",
              "  <tbody>\n",
              "    <tr>\n",
              "      <th>0</th>\n",
              "      <td>LIMPIEZA PÚBLICA</td>\n",
              "      <td>27463</td>\n",
              "      <td>1.149202e+08</td>\n",
              "      <td>437071.76</td>\n",
              "    </tr>\n",
              "    <tr>\n",
              "      <th>1</th>\n",
              "      <td>SERENAZGO</td>\n",
              "      <td>26450</td>\n",
              "      <td>1.118026e+08</td>\n",
              "      <td>437071.76</td>\n",
              "    </tr>\n",
              "    <tr>\n",
              "      <th>2</th>\n",
              "      <td>PARQUES Y JARDINES</td>\n",
              "      <td>21956</td>\n",
              "      <td>9.702921e+07</td>\n",
              "      <td>437071.76</td>\n",
              "    </tr>\n",
              "    <tr>\n",
              "      <th>3</th>\n",
              "      <td>IMPUESTO PREDIAL</td>\n",
              "      <td>20222</td>\n",
              "      <td>3.206345e+07</td>\n",
              "      <td>437071.76</td>\n",
              "    </tr>\n",
              "    <tr>\n",
              "      <th>4</th>\n",
              "      <td>MULTA TRIBUTARIA</td>\n",
              "      <td>94</td>\n",
              "      <td>6.998169e+05</td>\n",
              "      <td>139731.69</td>\n",
              "    </tr>\n",
              "  </tbody>\n",
              "</table>\n",
              "</div>\n",
              "      <button class=\"colab-df-convert\" onclick=\"convertToInteractive('df-3642a081-58fa-49c7-9fe7-fb3e42b6e0ae')\"\n",
              "              title=\"Convert this dataframe to an interactive table.\"\n",
              "              style=\"display:none;\">\n",
              "        \n",
              "  <svg xmlns=\"http://www.w3.org/2000/svg\" height=\"24px\"viewBox=\"0 0 24 24\"\n",
              "       width=\"24px\">\n",
              "    <path d=\"M0 0h24v24H0V0z\" fill=\"none\"/>\n",
              "    <path d=\"M18.56 5.44l.94 2.06.94-2.06 2.06-.94-2.06-.94-.94-2.06-.94 2.06-2.06.94zm-11 1L8.5 8.5l.94-2.06 2.06-.94-2.06-.94L8.5 2.5l-.94 2.06-2.06.94zm10 10l.94 2.06.94-2.06 2.06-.94-2.06-.94-.94-2.06-.94 2.06-2.06.94z\"/><path d=\"M17.41 7.96l-1.37-1.37c-.4-.4-.92-.59-1.43-.59-.52 0-1.04.2-1.43.59L10.3 9.45l-7.72 7.72c-.78.78-.78 2.05 0 2.83L4 21.41c.39.39.9.59 1.41.59.51 0 1.02-.2 1.41-.59l7.78-7.78 2.81-2.81c.8-.78.8-2.07 0-2.86zM5.41 20L4 18.59l7.72-7.72 1.47 1.35L5.41 20z\"/>\n",
              "  </svg>\n",
              "      </button>\n",
              "      \n",
              "  <style>\n",
              "    .colab-df-container {\n",
              "      display:flex;\n",
              "      flex-wrap:wrap;\n",
              "      gap: 12px;\n",
              "    }\n",
              "\n",
              "    .colab-df-convert {\n",
              "      background-color: #E8F0FE;\n",
              "      border: none;\n",
              "      border-radius: 50%;\n",
              "      cursor: pointer;\n",
              "      display: none;\n",
              "      fill: #1967D2;\n",
              "      height: 32px;\n",
              "      padding: 0 0 0 0;\n",
              "      width: 32px;\n",
              "    }\n",
              "\n",
              "    .colab-df-convert:hover {\n",
              "      background-color: #E2EBFA;\n",
              "      box-shadow: 0px 1px 2px rgba(60, 64, 67, 0.3), 0px 1px 3px 1px rgba(60, 64, 67, 0.15);\n",
              "      fill: #174EA6;\n",
              "    }\n",
              "\n",
              "    [theme=dark] .colab-df-convert {\n",
              "      background-color: #3B4455;\n",
              "      fill: #D2E3FC;\n",
              "    }\n",
              "\n",
              "    [theme=dark] .colab-df-convert:hover {\n",
              "      background-color: #434B5C;\n",
              "      box-shadow: 0px 1px 3px 1px rgba(0, 0, 0, 0.15);\n",
              "      filter: drop-shadow(0px 1px 2px rgba(0, 0, 0, 0.3));\n",
              "      fill: #FFFFFF;\n",
              "    }\n",
              "  </style>\n",
              "\n",
              "      <script>\n",
              "        const buttonEl =\n",
              "          document.querySelector('#df-3642a081-58fa-49c7-9fe7-fb3e42b6e0ae button.colab-df-convert');\n",
              "        buttonEl.style.display =\n",
              "          google.colab.kernel.accessAllowed ? 'block' : 'none';\n",
              "\n",
              "        async function convertToInteractive(key) {\n",
              "          const element = document.querySelector('#df-3642a081-58fa-49c7-9fe7-fb3e42b6e0ae');\n",
              "          const dataTable =\n",
              "            await google.colab.kernel.invokeFunction('convertToInteractive',\n",
              "                                                     [key], {});\n",
              "          if (!dataTable) return;\n",
              "\n",
              "          const docLinkHtml = 'Like what you see? Visit the ' +\n",
              "            '<a target=\"_blank\" href=https://colab.research.google.com/notebooks/data_table.ipynb>data table notebook</a>'\n",
              "            + ' to learn more about interactive tables.';\n",
              "          element.innerHTML = '';\n",
              "          dataTable['output_type'] = 'display_data';\n",
              "          await google.colab.output.renderOutput(dataTable, element);\n",
              "          const docLink = document.createElement('div');\n",
              "          docLink.innerHTML = docLinkHtml;\n",
              "          element.appendChild(docLink);\n",
              "        }\n",
              "      </script>\n",
              "    </div>\n",
              "  </div>\n",
              "  "
            ]
          },
          "metadata": {},
          "execution_count": 75
        }
      ]
    },
    {
      "cell_type": "code",
      "source": [
        "rango = dataConteptoSortBySum.index<5\n",
        "rango"
      ],
      "metadata": {
        "colab": {
          "base_uri": "https://localhost:8080/"
        },
        "id": "Ghwj4ZEN-XNX",
        "outputId": "41df1526-d116-4b46-fce5-0e30ed85a554"
      },
      "execution_count": 81,
      "outputs": [
        {
          "output_type": "execute_result",
          "data": {
            "text/plain": [
              "array([ True,  True,  True,  True,  True, False, False, False, False,\n",
              "       False, False, False, False, False, False, False, False, False,\n",
              "       False, False, False, False, False, False, False, False, False,\n",
              "       False, False, False, False, False, False, False, False, False,\n",
              "       False, False, False, False, False, False, False, False, False,\n",
              "       False, False, False, False, False, False, False, False])"
            ]
          },
          "metadata": {},
          "execution_count": 81
        }
      ]
    },
    {
      "cell_type": "code",
      "source": [
        "dataConteptoSortBySum[rango]"
      ],
      "metadata": {
        "colab": {
          "base_uri": "https://localhost:8080/",
          "height": 206
        },
        "id": "xWaDu7Q4IzZt",
        "outputId": "041c4777-e918-48e8-d2d6-342e01ed295a"
      },
      "execution_count": 82,
      "outputs": [
        {
          "output_type": "execute_result",
          "data": {
            "text/plain": [
              "             Concepto  Count           Sum        Max\n",
              "0    LIMPIEZA PÚBLICA  27463  1.149202e+08  437071.76\n",
              "1           SERENAZGO  26450  1.118026e+08  437071.76\n",
              "2  PARQUES Y JARDINES  21956  9.702921e+07  437071.76\n",
              "3    IMPUESTO PREDIAL  20222  3.206345e+07  437071.76\n",
              "4    MULTA TRIBUTARIA     94  6.998169e+05  139731.69"
            ],
            "text/html": [
              "\n",
              "  <div id=\"df-b64f8395-1f93-474b-986e-9d206bb632b0\">\n",
              "    <div class=\"colab-df-container\">\n",
              "      <div>\n",
              "<style scoped>\n",
              "    .dataframe tbody tr th:only-of-type {\n",
              "        vertical-align: middle;\n",
              "    }\n",
              "\n",
              "    .dataframe tbody tr th {\n",
              "        vertical-align: top;\n",
              "    }\n",
              "\n",
              "    .dataframe thead th {\n",
              "        text-align: right;\n",
              "    }\n",
              "</style>\n",
              "<table border=\"1\" class=\"dataframe\">\n",
              "  <thead>\n",
              "    <tr style=\"text-align: right;\">\n",
              "      <th></th>\n",
              "      <th>Concepto</th>\n",
              "      <th>Count</th>\n",
              "      <th>Sum</th>\n",
              "      <th>Max</th>\n",
              "    </tr>\n",
              "  </thead>\n",
              "  <tbody>\n",
              "    <tr>\n",
              "      <th>0</th>\n",
              "      <td>LIMPIEZA PÚBLICA</td>\n",
              "      <td>27463</td>\n",
              "      <td>1.149202e+08</td>\n",
              "      <td>437071.76</td>\n",
              "    </tr>\n",
              "    <tr>\n",
              "      <th>1</th>\n",
              "      <td>SERENAZGO</td>\n",
              "      <td>26450</td>\n",
              "      <td>1.118026e+08</td>\n",
              "      <td>437071.76</td>\n",
              "    </tr>\n",
              "    <tr>\n",
              "      <th>2</th>\n",
              "      <td>PARQUES Y JARDINES</td>\n",
              "      <td>21956</td>\n",
              "      <td>9.702921e+07</td>\n",
              "      <td>437071.76</td>\n",
              "    </tr>\n",
              "    <tr>\n",
              "      <th>3</th>\n",
              "      <td>IMPUESTO PREDIAL</td>\n",
              "      <td>20222</td>\n",
              "      <td>3.206345e+07</td>\n",
              "      <td>437071.76</td>\n",
              "    </tr>\n",
              "    <tr>\n",
              "      <th>4</th>\n",
              "      <td>MULTA TRIBUTARIA</td>\n",
              "      <td>94</td>\n",
              "      <td>6.998169e+05</td>\n",
              "      <td>139731.69</td>\n",
              "    </tr>\n",
              "  </tbody>\n",
              "</table>\n",
              "</div>\n",
              "      <button class=\"colab-df-convert\" onclick=\"convertToInteractive('df-b64f8395-1f93-474b-986e-9d206bb632b0')\"\n",
              "              title=\"Convert this dataframe to an interactive table.\"\n",
              "              style=\"display:none;\">\n",
              "        \n",
              "  <svg xmlns=\"http://www.w3.org/2000/svg\" height=\"24px\"viewBox=\"0 0 24 24\"\n",
              "       width=\"24px\">\n",
              "    <path d=\"M0 0h24v24H0V0z\" fill=\"none\"/>\n",
              "    <path d=\"M18.56 5.44l.94 2.06.94-2.06 2.06-.94-2.06-.94-.94-2.06-.94 2.06-2.06.94zm-11 1L8.5 8.5l.94-2.06 2.06-.94-2.06-.94L8.5 2.5l-.94 2.06-2.06.94zm10 10l.94 2.06.94-2.06 2.06-.94-2.06-.94-.94-2.06-.94 2.06-2.06.94z\"/><path d=\"M17.41 7.96l-1.37-1.37c-.4-.4-.92-.59-1.43-.59-.52 0-1.04.2-1.43.59L10.3 9.45l-7.72 7.72c-.78.78-.78 2.05 0 2.83L4 21.41c.39.39.9.59 1.41.59.51 0 1.02-.2 1.41-.59l7.78-7.78 2.81-2.81c.8-.78.8-2.07 0-2.86zM5.41 20L4 18.59l7.72-7.72 1.47 1.35L5.41 20z\"/>\n",
              "  </svg>\n",
              "      </button>\n",
              "      \n",
              "  <style>\n",
              "    .colab-df-container {\n",
              "      display:flex;\n",
              "      flex-wrap:wrap;\n",
              "      gap: 12px;\n",
              "    }\n",
              "\n",
              "    .colab-df-convert {\n",
              "      background-color: #E8F0FE;\n",
              "      border: none;\n",
              "      border-radius: 50%;\n",
              "      cursor: pointer;\n",
              "      display: none;\n",
              "      fill: #1967D2;\n",
              "      height: 32px;\n",
              "      padding: 0 0 0 0;\n",
              "      width: 32px;\n",
              "    }\n",
              "\n",
              "    .colab-df-convert:hover {\n",
              "      background-color: #E2EBFA;\n",
              "      box-shadow: 0px 1px 2px rgba(60, 64, 67, 0.3), 0px 1px 3px 1px rgba(60, 64, 67, 0.15);\n",
              "      fill: #174EA6;\n",
              "    }\n",
              "\n",
              "    [theme=dark] .colab-df-convert {\n",
              "      background-color: #3B4455;\n",
              "      fill: #D2E3FC;\n",
              "    }\n",
              "\n",
              "    [theme=dark] .colab-df-convert:hover {\n",
              "      background-color: #434B5C;\n",
              "      box-shadow: 0px 1px 3px 1px rgba(0, 0, 0, 0.15);\n",
              "      filter: drop-shadow(0px 1px 2px rgba(0, 0, 0, 0.3));\n",
              "      fill: #FFFFFF;\n",
              "    }\n",
              "  </style>\n",
              "\n",
              "      <script>\n",
              "        const buttonEl =\n",
              "          document.querySelector('#df-b64f8395-1f93-474b-986e-9d206bb632b0 button.colab-df-convert');\n",
              "        buttonEl.style.display =\n",
              "          google.colab.kernel.accessAllowed ? 'block' : 'none';\n",
              "\n",
              "        async function convertToInteractive(key) {\n",
              "          const element = document.querySelector('#df-b64f8395-1f93-474b-986e-9d206bb632b0');\n",
              "          const dataTable =\n",
              "            await google.colab.kernel.invokeFunction('convertToInteractive',\n",
              "                                                     [key], {});\n",
              "          if (!dataTable) return;\n",
              "\n",
              "          const docLinkHtml = 'Like what you see? Visit the ' +\n",
              "            '<a target=\"_blank\" href=https://colab.research.google.com/notebooks/data_table.ipynb>data table notebook</a>'\n",
              "            + ' to learn more about interactive tables.';\n",
              "          element.innerHTML = '';\n",
              "          dataTable['output_type'] = 'display_data';\n",
              "          await google.colab.output.renderOutput(dataTable, element);\n",
              "          const docLink = document.createElement('div');\n",
              "          docLink.innerHTML = docLinkHtml;\n",
              "          element.appendChild(docLink);\n",
              "        }\n",
              "      </script>\n",
              "    </div>\n",
              "  </div>\n",
              "  "
            ]
          },
          "metadata": {},
          "execution_count": 82
        }
      ]
    },
    {
      "cell_type": "code",
      "source": [
        "import matplotlib.pyplot as plt\n",
        "\n",
        "x = dataConteptoSortBySum[rango].Concepto.tolist()\n",
        "y = dataConteptoSortBySum[rango].Sum.tolist()\n",
        "\n",
        "# customized dict for our title\n",
        "font = {'family': 'sans-serif',\n",
        "        'color':  'darkred',\n",
        "        'weight': 'normal',\n",
        "        'size': 20,\n",
        "        }\n",
        "\n",
        "plt.title('Recaudación Top 5', fontdict=font)\n",
        "plt.xlabel('Concepto')\n",
        "plt.ylabel('Total')\n",
        "\n",
        "# Rotating X-axis labels\n",
        "plt.xticks(rotation = 90)\n",
        "\n",
        "plt.bar(x, y)\n",
        "plt.show()"
      ],
      "metadata": {
        "colab": {
          "base_uri": "https://localhost:8080/",
          "height": 397
        },
        "id": "frR5t7KLyK2v",
        "outputId": "fa3f363b-277e-4ea1-b84f-2abca718cc7b"
      },
      "execution_count": 84,
      "outputs": [
        {
          "output_type": "display_data",
          "data": {
            "text/plain": [
              "<Figure size 432x288 with 1 Axes>"
            ],
            "image/png": "[encoded data removed]"
          },
          "metadata": {
            "needs_background": "light"
          }
        }
      ]
    },
    {
      "cell_type": "code",
      "source": [
        "rango = (dataConteptoSortBySum.index>=5)&(dataConteptoSortBySum.index<10)\n",
        "rango"
      ],
      "metadata": {
        "colab": {
          "base_uri": "https://localhost:8080/"
        },
        "id": "6Jeb-5r1y4Ip",
        "outputId": "5e285dce-888c-4d3f-de58-d28d97fb0d99"
      },
      "execution_count": 85,
      "outputs": [
        {
          "output_type": "execute_result",
          "data": {
            "text/plain": [
              "array([False, False, False, False, False,  True,  True,  True,  True,\n",
              "        True, False, False, False, False, False, False, False, False,\n",
              "       False, False, False, False, False, False, False, False, False,\n",
              "       False, False, False, False, False, False, False, False, False,\n",
              "       False, False, False, False, False, False, False, False, False,\n",
              "       False, False, False, False, False, False, False, False])"
            ]
          },
          "metadata": {},
          "execution_count": 85
        }
      ]
    },
    {
      "cell_type": "code",
      "source": [
        "import matplotlib.pyplot as plt\n",
        "\n",
        "x = dataConteptoSortBySum[rango].Concepto.tolist()\n",
        "y = dataConteptoSortBySum[rango].Sum.tolist()\n",
        "\n",
        "# customized dict for our title\n",
        "font = {'family': 'sans-serif',\n",
        "        'color':  'darkred',\n",
        "        'weight': 'normal',\n",
        "        'size': 20,\n",
        "        }\n",
        "\n",
        "plt.title('Recaudación Top 05-10', fontdict=font)\n",
        "plt.xlabel('Concepto')\n",
        "plt.ylabel('Total')\n",
        "\n",
        "# Rotating X-axis labels\n",
        "plt.xticks(rotation = 90)\n",
        "\n",
        "plt.bar(x, y)\n",
        "plt.show()"
      ],
      "metadata": {
        "colab": {
          "base_uri": "https://localhost:8080/",
          "height": 399
        },
        "id": "_C7dCmc2JeoE",
        "outputId": "019022c1-360d-4b7d-9a2a-0eb08cf92551"
      },
      "execution_count": 87,
      "outputs": [
        {
          "output_type": "display_data",
          "data": {
            "text/plain": [
              "<Figure size 432x288 with 1 Axes>"
            ],
            "image/png": "[encoded data removed]"
          },
          "metadata": {
            "needs_background": "light"
          }
        }
      ]
    },
    {
      "cell_type": "code",
      "source": [
        "rango = (dataConteptoSortBySum.index>=10)&(dataConteptoSortBySum.index<15)\n",
        "rango"
      ],
      "metadata": {
        "colab": {
          "base_uri": "https://localhost:8080/"
        },
        "id": "eJw0exsDJmQR",
        "outputId": "50169dc3-0ac4-415c-8234-d12629a4f94e"
      },
      "execution_count": 88,
      "outputs": [
        {
          "output_type": "execute_result",
          "data": {
            "text/plain": [
              "array([False, False, False, False, False, False, False, False, False,\n",
              "       False,  True,  True,  True,  True,  True, False, False, False,\n",
              "       False, False, False, False, False, False, False, False, False,\n",
              "       False, False, False, False, False, False, False, False, False,\n",
              "       False, False, False, False, False, False, False, False, False,\n",
              "       False, False, False, False, False, False, False, False])"
            ]
          },
          "metadata": {},
          "execution_count": 88
        }
      ]
    },
    {
      "cell_type": "code",
      "source": [
        "import matplotlib.pyplot as plt\n",
        "\n",
        "x = dataConteptoSortBySum[rango].Concepto.tolist()\n",
        "y = dataConteptoSortBySum[rango].Sum.tolist()\n",
        "\n",
        "# customized dict for our title\n",
        "font = {'family': 'sans-serif',\n",
        "        'color':  'darkred',\n",
        "        'weight': 'normal',\n",
        "        'size': 20,\n",
        "        }\n",
        "\n",
        "plt.title('Recaudación Top 10-15', fontdict=font)\n",
        "plt.xlabel('Concepto')\n",
        "plt.ylabel('Total')\n",
        "\n",
        "# Rotating X-axis labels\n",
        "plt.xticks(rotation = 90)\n",
        "\n",
        "plt.bar(x, y)\n",
        "plt.show()"
      ],
      "metadata": {
        "colab": {
          "base_uri": "https://localhost:8080/",
          "height": 581
        },
        "id": "e-sqvE9VJ97x",
        "outputId": "a1938cbe-1ed9-42a4-ffec-962225ade2b4"
      },
      "execution_count": 89,
      "outputs": [
        {
          "output_type": "display_data",
          "data": {
            "text/plain": [
              "<Figure size 432x288 with 1 Axes>"
            ],
            "image/png": "[encoded data removed]"
          },
          "metadata": {
            "needs_background": "light"
          }
        }
      ]
    },
    {
      "cell_type": "code",
      "source": [
        "rango = (dataConteptoSortBySum.index>=10)&(dataConteptoSortBySum.index<20)\n",
        "rango"
      ],
      "metadata": {
        "colab": {
          "base_uri": "https://localhost:8080/"
        },
        "id": "mZiwQC9pKCns",
        "outputId": "6ee74c19-9ddc-4708-8c8d-70f4cf705574"
      },
      "execution_count": 90,
      "outputs": [
        {
          "output_type": "execute_result",
          "data": {
            "text/plain": [
              "array([False, False, False, False, False, False, False, False, False,\n",
              "       False,  True,  True,  True,  True,  True,  True,  True,  True,\n",
              "        True,  True, False, False, False, False, False, False, False,\n",
              "       False, False, False, False, False, False, False, False, False,\n",
              "       False, False, False, False, False, False, False, False, False,\n",
              "       False, False, False, False, False, False, False, False])"
            ]
          },
          "metadata": {},
          "execution_count": 90
        }
      ]
    },
    {
      "cell_type": "code",
      "source": [
        "import matplotlib.pyplot as plt\n",
        "\n",
        "x = dataConteptoSortBySum[rango].Concepto.tolist()\n",
        "y = dataConteptoSortBySum[rango].Sum.tolist()\n",
        "\n",
        "# customized dict for our title\n",
        "font = {'family': 'sans-serif',\n",
        "        'color':  'darkred',\n",
        "        'weight': 'normal',\n",
        "        'size': 20,\n",
        "        }\n",
        "\n",
        "plt.title('Recaudación Top 15-20', fontdict=font)\n",
        "plt.xlabel('Concepto')\n",
        "plt.ylabel('Total')\n",
        "\n",
        "# Rotating X-axis labels\n",
        "plt.xticks(rotation = 90)\n",
        "\n",
        "plt.bar(x, y)\n",
        "plt.show()"
      ],
      "metadata": {
        "colab": {
          "base_uri": "https://localhost:8080/",
          "height": 581
        },
        "id": "4mun0x2JKShP",
        "outputId": "2f9d9cdc-ae4c-4ab3-9984-5cf0287bf0d0"
      },
      "execution_count": 91,
      "outputs": [
        {
          "output_type": "display_data",
          "data": {
            "text/plain": [
              "<Figure size 432x288 with 1 Axes>"
            ],
            "image/png": "[encoded data removed]"
          },
          "metadata": {
            "needs_background": "light"
          }
        }
      ]
    },
    {
      "cell_type": "code",
      "source": [],
      "metadata": {
        "id": "AtCURk5fKYca"
      },
      "execution_count": null,
      "outputs": []
    }
  ]
}